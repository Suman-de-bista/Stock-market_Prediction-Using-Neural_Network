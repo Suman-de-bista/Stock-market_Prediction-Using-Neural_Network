{
 "metadata": {
  "language_info": {
   "codemirror_mode": {
    "name": "ipython",
    "version": 3
   },
   "file_extension": ".py",
   "mimetype": "text/x-python",
   "name": "python",
   "nbconvert_exporter": "python",
   "pygments_lexer": "ipython3",
   "version": "3.8.7-final"
  },
  "orig_nbformat": 2,
  "kernelspec": {
   "name": "python3",
   "display_name": "Python 3.8.7 64-bit",
   "metadata": {
    "interpreter": {
     "hash": "c3633fdfe3fca86f6ae83b292f98b5b2d55cfb4995568a94c5143a8e29a968a6"
    }
   }
  }
 },
 "nbformat": 4,
 "nbformat_minor": 2,
 "cells": [
  {
   "cell_type": "code",
   "execution_count": 1,
   "metadata": {},
   "outputs": [],
   "source": [
    "import os\n",
    "import sys\n",
    "import pandas as pd\n",
    "import matplotlib.pyplot as plt\n",
    "import datetime"
   ]
  },
  {
   "cell_type": "code",
   "execution_count": 2,
   "metadata": {},
   "outputs": [
    {
     "output_type": "execute_result",
     "data": {
      "text/plain": [
       "<bound method NDFrame.head of        Symbol        Date      Open    High     Low   Close         Vol\n",
       "0        ADBL  2011-03-20    132.00  134.00  131.00  133.00    1,507.00\n",
       "1       CZBIL  2011-03-20    207.00  217.00  211.00  217.00    1,650.00\n",
       "2         EBL  2011-03-20  1,001.00  984.00  965.00  984.00      417.00\n",
       "3         HBL  2011-03-20    580.00  585.00  580.00  585.00      377.00\n",
       "4         KBL  2011-03-20    260.00  270.00  260.00  270.00       90.00\n",
       "...       ...         ...       ...     ...     ...     ...         ...\n",
       "50073  SANIMA  2021-03-01    364.00  372.00  358.00  368.00  175,545.00\n",
       "50074     SBI  2021-03-01    415.00  425.00  415.00  422.00   23,508.00\n",
       "50075     SBL  2021-03-01    410.00  413.00  392.00  411.00  162,762.00\n",
       "50076     SCB  2021-03-01    629.00  629.00  610.00  616.00   48,763.00\n",
       "50077    SRBL  2021-03-01    320.00  320.00  300.00  309.00  101,081.00\n",
       "\n",
       "[50078 rows x 7 columns]>"
      ]
     },
     "metadata": {},
     "execution_count": 2
    }
   ],
   "source": [
    "datetime.datetime.strptime('2011-03-20','%Y-%m-%d')\n",
    "columns = ['Symbol', 'Date', 'Open', 'High', 'Low', 'Close', 'Vol']\n",
    "df = pd.DataFrame([], columns = columns)\n",
    "for entry in os.listdir('data/'):\n",
    "    df_temp= pd.read_csv('data/' + entry)\n",
    "    df_temp[\"Date\"] = pd.Series([entry.split(\".\")[0]]*len(df_temp))\n",
    "    df = pd.concat([df, df_temp[columns]],ignore_index=True)\n",
    "df.head\n"
   ]
  },
  {
   "cell_type": "code",
   "execution_count": 3,
   "metadata": {},
   "outputs": [],
   "source": [
    "df.to_csv(\"final_merged.csv\")"
   ]
  },
  {
   "cell_type": "code",
   "execution_count": null,
   "metadata": {},
   "outputs": [],
   "source": []
  }
 ]
}