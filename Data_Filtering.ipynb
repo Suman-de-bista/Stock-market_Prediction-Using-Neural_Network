{
 "metadata": {
  "language_info": {
   "codemirror_mode": {
    "name": "ipython",
    "version": 3
   },
   "file_extension": ".py",
   "mimetype": "text/x-python",
   "name": "python",
   "nbconvert_exporter": "python",
   "pygments_lexer": "ipython3",
   "version": "3.7.0-final"
  },
  "orig_nbformat": 2,
  "kernelspec": {
   "name": "python3",
   "display_name": "Python 3",
   "language": "python"
  }
 },
 "nbformat": 4,
 "nbformat_minor": 2,
 "cells": [
  {
   "cell_type": "code",
   "execution_count": 10,
   "metadata": {},
   "outputs": [],
   "source": [
    "import pandas as pd "
   ]
  },
  {
   "cell_type": "code",
   "execution_count": 11,
   "metadata": {},
   "outputs": [
    {
     "output_type": "execute_result",
     "data": {
      "text/plain": [
       "       Symbol        Date      Open    High     Low   Close         Vol\n",
       "0        ADBL  2011-03-20    132.00  134.00  131.00  133.00    1,507.00\n",
       "1       CZBIL  2011-03-20    207.00  217.00  211.00  217.00    1,650.00\n",
       "2         EBL  2011-03-20  1,001.00  984.00  965.00  984.00      417.00\n",
       "3         HBL  2011-03-20    580.00  585.00  580.00  585.00      377.00\n",
       "4         KBL  2011-03-20    260.00  270.00  260.00  270.00       90.00\n",
       "...       ...         ...       ...     ...     ...     ...         ...\n",
       "50073  SANIMA  2021-03-01    364.00  372.00  358.00  368.00  175,545.00\n",
       "50074     SBI  2021-03-01    415.00  425.00  415.00  422.00   23,508.00\n",
       "50075     SBL  2021-03-01    410.00  413.00  392.00  411.00  162,762.00\n",
       "50076     SCB  2021-03-01    629.00  629.00  610.00  616.00   48,763.00\n",
       "50077    SRBL  2021-03-01    320.00  320.00  300.00  309.00  101,081.00\n",
       "\n",
       "[50078 rows x 7 columns]"
      ],
      "text/html": "<div>\n<style scoped>\n    .dataframe tbody tr th:only-of-type {\n        vertical-align: middle;\n    }\n\n    .dataframe tbody tr th {\n        vertical-align: top;\n    }\n\n    .dataframe thead th {\n        text-align: right;\n    }\n</style>\n<table border=\"1\" class=\"dataframe\">\n  <thead>\n    <tr style=\"text-align: right;\">\n      <th></th>\n      <th>Symbol</th>\n      <th>Date</th>\n      <th>Open</th>\n      <th>High</th>\n      <th>Low</th>\n      <th>Close</th>\n      <th>Vol</th>\n    </tr>\n  </thead>\n  <tbody>\n    <tr>\n      <th>0</th>\n      <td>ADBL</td>\n      <td>2011-03-20</td>\n      <td>132.00</td>\n      <td>134.00</td>\n      <td>131.00</td>\n      <td>133.00</td>\n      <td>1,507.00</td>\n    </tr>\n    <tr>\n      <th>1</th>\n      <td>CZBIL</td>\n      <td>2011-03-20</td>\n      <td>207.00</td>\n      <td>217.00</td>\n      <td>211.00</td>\n      <td>217.00</td>\n      <td>1,650.00</td>\n    </tr>\n    <tr>\n      <th>2</th>\n      <td>EBL</td>\n      <td>2011-03-20</td>\n      <td>1,001.00</td>\n      <td>984.00</td>\n      <td>965.00</td>\n      <td>984.00</td>\n      <td>417.00</td>\n    </tr>\n    <tr>\n      <th>3</th>\n      <td>HBL</td>\n      <td>2011-03-20</td>\n      <td>580.00</td>\n      <td>585.00</td>\n      <td>580.00</td>\n      <td>585.00</td>\n      <td>377.00</td>\n    </tr>\n    <tr>\n      <th>4</th>\n      <td>KBL</td>\n      <td>2011-03-20</td>\n      <td>260.00</td>\n      <td>270.00</td>\n      <td>260.00</td>\n      <td>270.00</td>\n      <td>90.00</td>\n    </tr>\n    <tr>\n      <th>...</th>\n      <td>...</td>\n      <td>...</td>\n      <td>...</td>\n      <td>...</td>\n      <td>...</td>\n      <td>...</td>\n      <td>...</td>\n    </tr>\n    <tr>\n      <th>50073</th>\n      <td>SANIMA</td>\n      <td>2021-03-01</td>\n      <td>364.00</td>\n      <td>372.00</td>\n      <td>358.00</td>\n      <td>368.00</td>\n      <td>175,545.00</td>\n    </tr>\n    <tr>\n      <th>50074</th>\n      <td>SBI</td>\n      <td>2021-03-01</td>\n      <td>415.00</td>\n      <td>425.00</td>\n      <td>415.00</td>\n      <td>422.00</td>\n      <td>23,508.00</td>\n    </tr>\n    <tr>\n      <th>50075</th>\n      <td>SBL</td>\n      <td>2021-03-01</td>\n      <td>410.00</td>\n      <td>413.00</td>\n      <td>392.00</td>\n      <td>411.00</td>\n      <td>162,762.00</td>\n    </tr>\n    <tr>\n      <th>50076</th>\n      <td>SCB</td>\n      <td>2021-03-01</td>\n      <td>629.00</td>\n      <td>629.00</td>\n      <td>610.00</td>\n      <td>616.00</td>\n      <td>48,763.00</td>\n    </tr>\n    <tr>\n      <th>50077</th>\n      <td>SRBL</td>\n      <td>2021-03-01</td>\n      <td>320.00</td>\n      <td>320.00</td>\n      <td>300.00</td>\n      <td>309.00</td>\n      <td>101,081.00</td>\n    </tr>\n  </tbody>\n</table>\n<p>50078 rows × 7 columns</p>\n</div>"
     },
     "metadata": {},
     "execution_count": 11
    }
   ],
   "source": [
    "df = pd.read_csv('final_merged.csv', index_col=0)\n",
    "df"
   ]
  },
  {
   "cell_type": "code",
   "execution_count": 12,
   "metadata": {},
   "outputs": [
    {
     "output_type": "execute_result",
     "data": {
      "text/plain": [
       "Symbol    object\n",
       "Date      object\n",
       "Open      object\n",
       "High      object\n",
       "Low       object\n",
       "Close     object\n",
       "Vol       object\n",
       "dtype: object"
      ]
     },
     "metadata": {},
     "execution_count": 12
    }
   ],
   "source": [
    "df.dtypes"
   ]
  },
  {
   "cell_type": "code",
   "execution_count": 13,
   "metadata": {},
   "outputs": [],
   "source": [
    "df[\"Open\"] = pd.to_numeric(df.Open,errors='coerce')\n",
    "df[\"High\"] = pd.to_numeric(df.High,errors='coerce')\n",
    "df[\"Low\"] = pd.to_numeric(df.Low,errors='coerce')\n",
    "df[\"Close\"] = pd.to_numeric(df.Close,errors='coerce')"
   ]
  },
  {
   "cell_type": "code",
   "execution_count": 14,
   "metadata": {},
   "outputs": [
    {
     "output_type": "execute_result",
     "data": {
      "text/plain": [
       "Symbol     object\n",
       "Date       object\n",
       "Open      float64\n",
       "High      float64\n",
       "Low       float64\n",
       "Close     float64\n",
       "Vol        object\n",
       "dtype: object"
      ]
     },
     "metadata": {},
     "execution_count": 14
    }
   ],
   "source": [
    "df.dtypes"
   ]
  },
  {
   "cell_type": "code",
   "execution_count": 15,
   "metadata": {},
   "outputs": [
    {
     "output_type": "execute_result",
     "data": {
      "text/plain": [
       "       Symbol        Date   Open   High    Low  Close         Vol\n",
       "0        ADBL  2011-03-20  132.0  134.0  131.0  133.0    1,507.00\n",
       "1       CZBIL  2011-03-20  207.0  217.0  211.0  217.0    1,650.00\n",
       "2         EBL  2011-03-20    NaN  984.0  965.0  984.0      417.00\n",
       "3         HBL  2011-03-20  580.0  585.0  580.0  585.0      377.00\n",
       "4         KBL  2011-03-20  260.0  270.0  260.0  270.0       90.00\n",
       "...       ...         ...    ...    ...    ...    ...         ...\n",
       "50073  SANIMA  2021-03-01  364.0  372.0  358.0  368.0  175,545.00\n",
       "50074     SBI  2021-03-01  415.0  425.0  415.0  422.0   23,508.00\n",
       "50075     SBL  2021-03-01  410.0  413.0  392.0  411.0  162,762.00\n",
       "50076     SCB  2021-03-01  629.0  629.0  610.0  616.0   48,763.00\n",
       "50077    SRBL  2021-03-01  320.0  320.0  300.0  309.0  101,081.00\n",
       "\n",
       "[50078 rows x 7 columns]"
      ],
      "text/html": "<div>\n<style scoped>\n    .dataframe tbody tr th:only-of-type {\n        vertical-align: middle;\n    }\n\n    .dataframe tbody tr th {\n        vertical-align: top;\n    }\n\n    .dataframe thead th {\n        text-align: right;\n    }\n</style>\n<table border=\"1\" class=\"dataframe\">\n  <thead>\n    <tr style=\"text-align: right;\">\n      <th></th>\n      <th>Symbol</th>\n      <th>Date</th>\n      <th>Open</th>\n      <th>High</th>\n      <th>Low</th>\n      <th>Close</th>\n      <th>Vol</th>\n    </tr>\n  </thead>\n  <tbody>\n    <tr>\n      <th>0</th>\n      <td>ADBL</td>\n      <td>2011-03-20</td>\n      <td>132.0</td>\n      <td>134.0</td>\n      <td>131.0</td>\n      <td>133.0</td>\n      <td>1,507.00</td>\n    </tr>\n    <tr>\n      <th>1</th>\n      <td>CZBIL</td>\n      <td>2011-03-20</td>\n      <td>207.0</td>\n      <td>217.0</td>\n      <td>211.0</td>\n      <td>217.0</td>\n      <td>1,650.00</td>\n    </tr>\n    <tr>\n      <th>2</th>\n      <td>EBL</td>\n      <td>2011-03-20</td>\n      <td>NaN</td>\n      <td>984.0</td>\n      <td>965.0</td>\n      <td>984.0</td>\n      <td>417.00</td>\n    </tr>\n    <tr>\n      <th>3</th>\n      <td>HBL</td>\n      <td>2011-03-20</td>\n      <td>580.0</td>\n      <td>585.0</td>\n      <td>580.0</td>\n      <td>585.0</td>\n      <td>377.00</td>\n    </tr>\n    <tr>\n      <th>4</th>\n      <td>KBL</td>\n      <td>2011-03-20</td>\n      <td>260.0</td>\n      <td>270.0</td>\n      <td>260.0</td>\n      <td>270.0</td>\n      <td>90.00</td>\n    </tr>\n    <tr>\n      <th>...</th>\n      <td>...</td>\n      <td>...</td>\n      <td>...</td>\n      <td>...</td>\n      <td>...</td>\n      <td>...</td>\n      <td>...</td>\n    </tr>\n    <tr>\n      <th>50073</th>\n      <td>SANIMA</td>\n      <td>2021-03-01</td>\n      <td>364.0</td>\n      <td>372.0</td>\n      <td>358.0</td>\n      <td>368.0</td>\n      <td>175,545.00</td>\n    </tr>\n    <tr>\n      <th>50074</th>\n      <td>SBI</td>\n      <td>2021-03-01</td>\n      <td>415.0</td>\n      <td>425.0</td>\n      <td>415.0</td>\n      <td>422.0</td>\n      <td>23,508.00</td>\n    </tr>\n    <tr>\n      <th>50075</th>\n      <td>SBL</td>\n      <td>2021-03-01</td>\n      <td>410.0</td>\n      <td>413.0</td>\n      <td>392.0</td>\n      <td>411.0</td>\n      <td>162,762.00</td>\n    </tr>\n    <tr>\n      <th>50076</th>\n      <td>SCB</td>\n      <td>2021-03-01</td>\n      <td>629.0</td>\n      <td>629.0</td>\n      <td>610.0</td>\n      <td>616.0</td>\n      <td>48,763.00</td>\n    </tr>\n    <tr>\n      <th>50077</th>\n      <td>SRBL</td>\n      <td>2021-03-01</td>\n      <td>320.0</td>\n      <td>320.0</td>\n      <td>300.0</td>\n      <td>309.0</td>\n      <td>101,081.00</td>\n    </tr>\n  </tbody>\n</table>\n<p>50078 rows × 7 columns</p>\n</div>"
     },
     "metadata": {},
     "execution_count": 15
    }
   ],
   "source": [
    "df"
   ]
  },
  {
   "cell_type": "code",
   "execution_count": 16,
   "metadata": {},
   "outputs": [],
   "source": [
    "ADBL = df[df['Symbol'] =='ADBL']\n",
    "BOKL = df[df['Symbol'] == 'BOKL']\n",
    "CBL = df[df['Symbol'] =='CBL']\n",
    "CCBL = df[df['Symbol'] =='CCBL']\n",
    "CZBIL = df[df['Symbol'] =='CZBIL']\n",
    "EBL = df[df['Symbol'] =='EBL']\n",
    "GBIME =  df[df['Symbol'] =='GBIME']\n",
    "HBL = df[df['Symbol'] =='HBL']\n",
    "KBL = df[df['Symbol'] =='KBL']\n",
    "LBL = df[df['Symbol'] =='LBL']\n",
    "MBL = df[df['Symbol'] =='MBL']\n",
    "MEGA = df[df['Symbol'] =='MEGA']\n",
    "NABIL = df[df['Symbol'] =='NABIL']\n",
    "NBB = df[df['Symbol'] =='NBB']\n",
    "NBL = df[df['Symbol'] =='NBL']\n",
    "NCCB = df[df['Symbol'] =='NCCB']\n",
    "NIB = df[df['Symbol'] =='NIB']\n",
    "NICA = df[df['Symbol'] =='NICA']\n",
    "NMB = df[df['Symbol'] =='NMB']\n",
    "PCBL = df[df['Symbol'] =='PCBL']\n",
    "PRVU = df[df['Symbol'] =='PRVU']\n",
    "SANIMA = df[df['Symbol'] =='SANIMA']\n",
    "SBI = df[df['Symbol'] =='SBI']\n",
    "SBL = df[df['Symbol'] =='SBL']\n",
    "SCB = df[df['Symbol'] =='SCB']\n",
    "SRBL = df[df['Symbol'] =='SRBL']\n",
    "\n"
   ]
  },
  {
   "cell_type": "code",
   "execution_count": 17,
   "metadata": {},
   "outputs": [
    {
     "output_type": "execute_result",
     "data": {
      "text/plain": [
       "Symbol     object\n",
       "Date       object\n",
       "Open      float64\n",
       "High      float64\n",
       "Low       float64\n",
       "Close     float64\n",
       "Vol        object\n",
       "dtype: object"
      ]
     },
     "metadata": {},
     "execution_count": 17
    }
   ],
   "source": [
    "ADBL.dtypes"
   ]
  },
  {
   "cell_type": "code",
   "execution_count": 18,
   "metadata": {},
   "outputs": [],
   "source": [
    "ADBL.reset_index()\n",
    "ADBL.to_csv('Banks\\ADBL.csv')\n"
   ]
  },
  {
   "cell_type": "code",
   "execution_count": 19,
   "metadata": {},
   "outputs": [],
   "source": [
    "\n",
    "BOKL.to_csv('Banks\\BOKL.csv')\n",
    "\n"
   ]
  },
  {
   "cell_type": "code",
   "execution_count": 20,
   "metadata": {},
   "outputs": [],
   "source": [
    "CBL.to_csv('Banks\\CBL.csv')\n"
   ]
  },
  {
   "cell_type": "code",
   "execution_count": 21,
   "metadata": {},
   "outputs": [],
   "source": [
    "CCBL.to_csv('Banks\\CCBL.csv')\n"
   ]
  },
  {
   "cell_type": "code",
   "execution_count": 22,
   "metadata": {},
   "outputs": [],
   "source": [
    "CZBIL.to_csv('Banks\\CZBIL.csv')\n"
   ]
  },
  {
   "cell_type": "code",
   "execution_count": 23,
   "metadata": {},
   "outputs": [],
   "source": [
    "EBL.to_csv('Banks\\EBL.csv')\n"
   ]
  },
  {
   "cell_type": "code",
   "execution_count": 24,
   "metadata": {},
   "outputs": [],
   "source": [
    "GBIME.to_csv('Banks\\GBIME.csv')\n"
   ]
  },
  {
   "cell_type": "code",
   "execution_count": 25,
   "metadata": {},
   "outputs": [],
   "source": [
    "HBL.to_csv('Banks\\HBL.csv')"
   ]
  },
  {
   "cell_type": "code",
   "execution_count": 26,
   "metadata": {},
   "outputs": [],
   "source": [
    "KBL.to_csv('Banks\\KBL.csv')"
   ]
  },
  {
   "cell_type": "code",
   "execution_count": 27,
   "metadata": {},
   "outputs": [],
   "source": [
    "LBL.to_csv('Banks\\LBL.csv')"
   ]
  },
  {
   "cell_type": "code",
   "execution_count": 28,
   "metadata": {},
   "outputs": [],
   "source": [
    "MBL.to_csv('Banks\\MBL.csv')"
   ]
  },
  {
   "cell_type": "code",
   "execution_count": 29,
   "metadata": {},
   "outputs": [],
   "source": [
    "MEGA.to_csv('Banks\\MEGA.csv')"
   ]
  },
  {
   "cell_type": "code",
   "execution_count": 30,
   "metadata": {},
   "outputs": [],
   "source": [
    "NABIL.to_csv('NABIL.csv')"
   ]
  },
  {
   "cell_type": "code",
   "execution_count": 31,
   "metadata": {},
   "outputs": [],
   "source": [
    "NBB.to_csv('NBB.csv')"
   ]
  },
  {
   "cell_type": "code",
   "execution_count": 32,
   "metadata": {},
   "outputs": [],
   "source": [
    "NBL.to_csv('NBL.csv')"
   ]
  },
  {
   "cell_type": "code",
   "execution_count": 33,
   "metadata": {},
   "outputs": [],
   "source": [
    "NCCB.to_csv('NCCB.csv')"
   ]
  },
  {
   "cell_type": "code",
   "execution_count": 34,
   "metadata": {},
   "outputs": [],
   "source": [
    "NIB.to_csv('NIB.csv')"
   ]
  },
  {
   "cell_type": "code",
   "execution_count": 35,
   "metadata": {},
   "outputs": [],
   "source": [
    "NICA.to_csv('NICA.csv')"
   ]
  },
  {
   "cell_type": "code",
   "execution_count": 36,
   "metadata": {},
   "outputs": [],
   "source": [
    "NMB.to_csv('NMBV.csv')"
   ]
  },
  {
   "cell_type": "code",
   "execution_count": 37,
   "metadata": {},
   "outputs": [],
   "source": [
    "PCBL.to_csv('PCBL.csv')"
   ]
  },
  {
   "cell_type": "code",
   "execution_count": 38,
   "metadata": {},
   "outputs": [],
   "source": [
    "PRVU.to_csv('PRVU.csv')"
   ]
  },
  {
   "cell_type": "code",
   "execution_count": 39,
   "metadata": {},
   "outputs": [],
   "source": [
    "SANIMA.to_csv('SANIMA.csv')"
   ]
  },
  {
   "cell_type": "code",
   "execution_count": 40,
   "metadata": {},
   "outputs": [],
   "source": [
    "SBI.to_csv('SBI.csv')"
   ]
  },
  {
   "cell_type": "code",
   "execution_count": 41,
   "metadata": {},
   "outputs": [],
   "source": [
    "SBL.to_csv('SBL.csv')"
   ]
  },
  {
   "cell_type": "code",
   "execution_count": 42,
   "metadata": {},
   "outputs": [],
   "source": [
    "SCB.to_csv('SCB.csv')"
   ]
  },
  {
   "cell_type": "code",
   "execution_count": 43,
   "metadata": {},
   "outputs": [],
   "source": [
    "SRBL.to_csv('SRBL.csv')"
   ]
  },
  {
   "cell_type": "code",
   "execution_count": null,
   "metadata": {},
   "outputs": [],
   "source": []
  }
 ]
}