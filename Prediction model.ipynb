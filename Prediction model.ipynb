{
 "metadata": {
  "language_info": {
   "codemirror_mode": {
    "name": "ipython",
    "version": 3
   },
   "file_extension": ".py",
   "mimetype": "text/x-python",
   "name": "python",
   "nbconvert_exporter": "python",
   "pygments_lexer": "ipython3",
   "version": "3.7.0-final"
  },
  "orig_nbformat": 2,
  "kernelspec": {
   "name": "python3",
   "display_name": "Python 3",
   "language": "python"
  }
 },
 "nbformat": 4,
 "nbformat_minor": 2,
 "cells": [
  {
   "cell_type": "code",
   "execution_count": 2,
   "metadata": {},
   "outputs": [],
   "source": [
    "#1.Data Preprocessing"
   ]
  },
  {
   "cell_type": "code",
   "execution_count": 3,
   "metadata": {},
   "outputs": [],
   "source": [
    "#Importing the libraries\n",
    "import numpy as np       \n",
    "import matplotlib.pyplot as plt   \n",
    "import pandas as pd  "
   ]
  },
  {
   "cell_type": "code",
   "execution_count": 4,
   "metadata": {},
   "outputs": [
    {
     "output_type": "execute_result",
     "data": {
      "text/plain": [
       "      Symbol        Date   Open   High    Low  Close        Vol\n",
       "0       ADBL  2011-03-20  132.0  134.0  131.0  133.0   1,507.00\n",
       "15      ADBL  2011-03-24  135.0  136.0  129.0  133.0   3,116.00\n",
       "31      ADBL  2011-03-25  133.0  135.0  132.0  135.0   2,560.00\n",
       "47      ADBL  2011-03-27  135.0  135.0  134.0  134.0   2,110.00\n",
       "61      ADBL  2011-03-28  134.0  134.0  130.0  130.0   1,288.00\n",
       "...      ...         ...    ...    ...    ...    ...        ...\n",
       "49948   ADBL  2021-02-23  460.0  460.0  446.0  455.0  61,301.00\n",
       "49974   ADBL  2021-02-24  477.0  477.0  453.0  459.0  76,992.00\n",
       "50000   ADBL  2021-02-25  466.0  466.0  450.0  455.0  60,468.00\n",
       "50026   ADBL  2021-02-28  450.0  450.0  438.0  441.0  87,385.00\n",
       "50052   ADBL  2021-03-01  441.0  449.0  435.0  445.0  86,938.00\n",
       "\n",
       "[2255 rows x 7 columns]"
      ],
      "text/html": "<div>\n<style scoped>\n    .dataframe tbody tr th:only-of-type {\n        vertical-align: middle;\n    }\n\n    .dataframe tbody tr th {\n        vertical-align: top;\n    }\n\n    .dataframe thead th {\n        text-align: right;\n    }\n</style>\n<table border=\"1\" class=\"dataframe\">\n  <thead>\n    <tr style=\"text-align: right;\">\n      <th></th>\n      <th>Symbol</th>\n      <th>Date</th>\n      <th>Open</th>\n      <th>High</th>\n      <th>Low</th>\n      <th>Close</th>\n      <th>Vol</th>\n    </tr>\n  </thead>\n  <tbody>\n    <tr>\n      <th>0</th>\n      <td>ADBL</td>\n      <td>2011-03-20</td>\n      <td>132.0</td>\n      <td>134.0</td>\n      <td>131.0</td>\n      <td>133.0</td>\n      <td>1,507.00</td>\n    </tr>\n    <tr>\n      <th>15</th>\n      <td>ADBL</td>\n      <td>2011-03-24</td>\n      <td>135.0</td>\n      <td>136.0</td>\n      <td>129.0</td>\n      <td>133.0</td>\n      <td>3,116.00</td>\n    </tr>\n    <tr>\n      <th>31</th>\n      <td>ADBL</td>\n      <td>2011-03-25</td>\n      <td>133.0</td>\n      <td>135.0</td>\n      <td>132.0</td>\n      <td>135.0</td>\n      <td>2,560.00</td>\n    </tr>\n    <tr>\n      <th>47</th>\n      <td>ADBL</td>\n      <td>2011-03-27</td>\n      <td>135.0</td>\n      <td>135.0</td>\n      <td>134.0</td>\n      <td>134.0</td>\n      <td>2,110.00</td>\n    </tr>\n    <tr>\n      <th>61</th>\n      <td>ADBL</td>\n      <td>2011-03-28</td>\n      <td>134.0</td>\n      <td>134.0</td>\n      <td>130.0</td>\n      <td>130.0</td>\n      <td>1,288.00</td>\n    </tr>\n    <tr>\n      <th>...</th>\n      <td>...</td>\n      <td>...</td>\n      <td>...</td>\n      <td>...</td>\n      <td>...</td>\n      <td>...</td>\n      <td>...</td>\n    </tr>\n    <tr>\n      <th>49948</th>\n      <td>ADBL</td>\n      <td>2021-02-23</td>\n      <td>460.0</td>\n      <td>460.0</td>\n      <td>446.0</td>\n      <td>455.0</td>\n      <td>61,301.00</td>\n    </tr>\n    <tr>\n      <th>49974</th>\n      <td>ADBL</td>\n      <td>2021-02-24</td>\n      <td>477.0</td>\n      <td>477.0</td>\n      <td>453.0</td>\n      <td>459.0</td>\n      <td>76,992.00</td>\n    </tr>\n    <tr>\n      <th>50000</th>\n      <td>ADBL</td>\n      <td>2021-02-25</td>\n      <td>466.0</td>\n      <td>466.0</td>\n      <td>450.0</td>\n      <td>455.0</td>\n      <td>60,468.00</td>\n    </tr>\n    <tr>\n      <th>50026</th>\n      <td>ADBL</td>\n      <td>2021-02-28</td>\n      <td>450.0</td>\n      <td>450.0</td>\n      <td>438.0</td>\n      <td>441.0</td>\n      <td>87,385.00</td>\n    </tr>\n    <tr>\n      <th>50052</th>\n      <td>ADBL</td>\n      <td>2021-03-01</td>\n      <td>441.0</td>\n      <td>449.0</td>\n      <td>435.0</td>\n      <td>445.0</td>\n      <td>86,938.00</td>\n    </tr>\n  </tbody>\n</table>\n<p>2255 rows × 7 columns</p>\n</div>"
     },
     "metadata": {},
     "execution_count": 4
    }
   ],
   "source": [
    "dataset = pd.read_csv('Banks/ADBL.csv',index_col=0)\n",
    "dataset"
   ]
  },
  {
   "cell_type": "code",
   "execution_count": 5,
   "metadata": {},
   "outputs": [],
   "source": [
    "dataset=dataset.dropna()"
   ]
  },
  {
   "cell_type": "code",
   "execution_count": 6,
   "metadata": {},
   "outputs": [
    {
     "output_type": "execute_result",
     "data": {
      "text/plain": [
       "      Symbol        Date   Open   High    Low  Close        Vol\n",
       "0       ADBL  2011-03-20  132.0  134.0  131.0  133.0   1,507.00\n",
       "15      ADBL  2011-03-24  135.0  136.0  129.0  133.0   3,116.00\n",
       "31      ADBL  2011-03-25  133.0  135.0  132.0  135.0   2,560.00\n",
       "47      ADBL  2011-03-27  135.0  135.0  134.0  134.0   2,110.00\n",
       "61      ADBL  2011-03-28  134.0  134.0  130.0  130.0   1,288.00\n",
       "...      ...         ...    ...    ...    ...    ...        ...\n",
       "49948   ADBL  2021-02-23  460.0  460.0  446.0  455.0  61,301.00\n",
       "49974   ADBL  2021-02-24  477.0  477.0  453.0  459.0  76,992.00\n",
       "50000   ADBL  2021-02-25  466.0  466.0  450.0  455.0  60,468.00\n",
       "50026   ADBL  2021-02-28  450.0  450.0  438.0  441.0  87,385.00\n",
       "50052   ADBL  2021-03-01  441.0  449.0  435.0  445.0  86,938.00\n",
       "\n",
       "[2221 rows x 7 columns]"
      ],
      "text/html": "<div>\n<style scoped>\n    .dataframe tbody tr th:only-of-type {\n        vertical-align: middle;\n    }\n\n    .dataframe tbody tr th {\n        vertical-align: top;\n    }\n\n    .dataframe thead th {\n        text-align: right;\n    }\n</style>\n<table border=\"1\" class=\"dataframe\">\n  <thead>\n    <tr style=\"text-align: right;\">\n      <th></th>\n      <th>Symbol</th>\n      <th>Date</th>\n      <th>Open</th>\n      <th>High</th>\n      <th>Low</th>\n      <th>Close</th>\n      <th>Vol</th>\n    </tr>\n  </thead>\n  <tbody>\n    <tr>\n      <th>0</th>\n      <td>ADBL</td>\n      <td>2011-03-20</td>\n      <td>132.0</td>\n      <td>134.0</td>\n      <td>131.0</td>\n      <td>133.0</td>\n      <td>1,507.00</td>\n    </tr>\n    <tr>\n      <th>15</th>\n      <td>ADBL</td>\n      <td>2011-03-24</td>\n      <td>135.0</td>\n      <td>136.0</td>\n      <td>129.0</td>\n      <td>133.0</td>\n      <td>3,116.00</td>\n    </tr>\n    <tr>\n      <th>31</th>\n      <td>ADBL</td>\n      <td>2011-03-25</td>\n      <td>133.0</td>\n      <td>135.0</td>\n      <td>132.0</td>\n      <td>135.0</td>\n      <td>2,560.00</td>\n    </tr>\n    <tr>\n      <th>47</th>\n      <td>ADBL</td>\n      <td>2011-03-27</td>\n      <td>135.0</td>\n      <td>135.0</td>\n      <td>134.0</td>\n      <td>134.0</td>\n      <td>2,110.00</td>\n    </tr>\n    <tr>\n      <th>61</th>\n      <td>ADBL</td>\n      <td>2011-03-28</td>\n      <td>134.0</td>\n      <td>134.0</td>\n      <td>130.0</td>\n      <td>130.0</td>\n      <td>1,288.00</td>\n    </tr>\n    <tr>\n      <th>...</th>\n      <td>...</td>\n      <td>...</td>\n      <td>...</td>\n      <td>...</td>\n      <td>...</td>\n      <td>...</td>\n      <td>...</td>\n    </tr>\n    <tr>\n      <th>49948</th>\n      <td>ADBL</td>\n      <td>2021-02-23</td>\n      <td>460.0</td>\n      <td>460.0</td>\n      <td>446.0</td>\n      <td>455.0</td>\n      <td>61,301.00</td>\n    </tr>\n    <tr>\n      <th>49974</th>\n      <td>ADBL</td>\n      <td>2021-02-24</td>\n      <td>477.0</td>\n      <td>477.0</td>\n      <td>453.0</td>\n      <td>459.0</td>\n      <td>76,992.00</td>\n    </tr>\n    <tr>\n      <th>50000</th>\n      <td>ADBL</td>\n      <td>2021-02-25</td>\n      <td>466.0</td>\n      <td>466.0</td>\n      <td>450.0</td>\n      <td>455.0</td>\n      <td>60,468.00</td>\n    </tr>\n    <tr>\n      <th>50026</th>\n      <td>ADBL</td>\n      <td>2021-02-28</td>\n      <td>450.0</td>\n      <td>450.0</td>\n      <td>438.0</td>\n      <td>441.0</td>\n      <td>87,385.00</td>\n    </tr>\n    <tr>\n      <th>50052</th>\n      <td>ADBL</td>\n      <td>2021-03-01</td>\n      <td>441.0</td>\n      <td>449.0</td>\n      <td>435.0</td>\n      <td>445.0</td>\n      <td>86,938.00</td>\n    </tr>\n  </tbody>\n</table>\n<p>2221 rows × 7 columns</p>\n</div>"
     },
     "metadata": {},
     "execution_count": 6
    }
   ],
   "source": [
    "dataset"
   ]
  },
  {
   "cell_type": "code",
   "execution_count": 7,
   "metadata": {},
   "outputs": [],
   "source": [
    "dataset_train , dataset_test = dataset.head(1776) , dataset.tail(445)"
   ]
  },
  {
   "cell_type": "code",
   "execution_count": 8,
   "metadata": {},
   "outputs": [
    {
     "output_type": "execute_result",
     "data": {
      "text/plain": [
       "      Symbol        Date   Open   High    Low  Close        Vol\n",
       "0       ADBL  2011-03-20  132.0  134.0  131.0  133.0   1,507.00\n",
       "15      ADBL  2011-03-24  135.0  136.0  129.0  133.0   3,116.00\n",
       "31      ADBL  2011-03-25  133.0  135.0  132.0  135.0   2,560.00\n",
       "47      ADBL  2011-03-27  135.0  135.0  134.0  134.0   2,110.00\n",
       "61      ADBL  2011-03-28  134.0  134.0  130.0  130.0   1,288.00\n",
       "...      ...         ...    ...    ...    ...    ...        ...\n",
       "38582   ADBL  2019-01-23  343.0  344.0  342.0  343.0   2,273.00\n",
       "38608   ADBL  2019-01-24  344.0  344.0  342.0  342.0  16,140.00\n",
       "38634   ADBL  2019-01-27  342.0  342.0  339.0  339.0   4,235.00\n",
       "38660   ADBL  2019-01-28  339.0  345.0  338.0  342.0   8,647.00\n",
       "38686   ADBL  2019-01-29  342.0  342.0  340.0  341.0   2,612.00\n",
       "\n",
       "[1776 rows x 7 columns]"
      ],
      "text/html": "<div>\n<style scoped>\n    .dataframe tbody tr th:only-of-type {\n        vertical-align: middle;\n    }\n\n    .dataframe tbody tr th {\n        vertical-align: top;\n    }\n\n    .dataframe thead th {\n        text-align: right;\n    }\n</style>\n<table border=\"1\" class=\"dataframe\">\n  <thead>\n    <tr style=\"text-align: right;\">\n      <th></th>\n      <th>Symbol</th>\n      <th>Date</th>\n      <th>Open</th>\n      <th>High</th>\n      <th>Low</th>\n      <th>Close</th>\n      <th>Vol</th>\n    </tr>\n  </thead>\n  <tbody>\n    <tr>\n      <th>0</th>\n      <td>ADBL</td>\n      <td>2011-03-20</td>\n      <td>132.0</td>\n      <td>134.0</td>\n      <td>131.0</td>\n      <td>133.0</td>\n      <td>1,507.00</td>\n    </tr>\n    <tr>\n      <th>15</th>\n      <td>ADBL</td>\n      <td>2011-03-24</td>\n      <td>135.0</td>\n      <td>136.0</td>\n      <td>129.0</td>\n      <td>133.0</td>\n      <td>3,116.00</td>\n    </tr>\n    <tr>\n      <th>31</th>\n      <td>ADBL</td>\n      <td>2011-03-25</td>\n      <td>133.0</td>\n      <td>135.0</td>\n      <td>132.0</td>\n      <td>135.0</td>\n      <td>2,560.00</td>\n    </tr>\n    <tr>\n      <th>47</th>\n      <td>ADBL</td>\n      <td>2011-03-27</td>\n      <td>135.0</td>\n      <td>135.0</td>\n      <td>134.0</td>\n      <td>134.0</td>\n      <td>2,110.00</td>\n    </tr>\n    <tr>\n      <th>61</th>\n      <td>ADBL</td>\n      <td>2011-03-28</td>\n      <td>134.0</td>\n      <td>134.0</td>\n      <td>130.0</td>\n      <td>130.0</td>\n      <td>1,288.00</td>\n    </tr>\n    <tr>\n      <th>...</th>\n      <td>...</td>\n      <td>...</td>\n      <td>...</td>\n      <td>...</td>\n      <td>...</td>\n      <td>...</td>\n      <td>...</td>\n    </tr>\n    <tr>\n      <th>38582</th>\n      <td>ADBL</td>\n      <td>2019-01-23</td>\n      <td>343.0</td>\n      <td>344.0</td>\n      <td>342.0</td>\n      <td>343.0</td>\n      <td>2,273.00</td>\n    </tr>\n    <tr>\n      <th>38608</th>\n      <td>ADBL</td>\n      <td>2019-01-24</td>\n      <td>344.0</td>\n      <td>344.0</td>\n      <td>342.0</td>\n      <td>342.0</td>\n      <td>16,140.00</td>\n    </tr>\n    <tr>\n      <th>38634</th>\n      <td>ADBL</td>\n      <td>2019-01-27</td>\n      <td>342.0</td>\n      <td>342.0</td>\n      <td>339.0</td>\n      <td>339.0</td>\n      <td>4,235.00</td>\n    </tr>\n    <tr>\n      <th>38660</th>\n      <td>ADBL</td>\n      <td>2019-01-28</td>\n      <td>339.0</td>\n      <td>345.0</td>\n      <td>338.0</td>\n      <td>342.0</td>\n      <td>8,647.00</td>\n    </tr>\n    <tr>\n      <th>38686</th>\n      <td>ADBL</td>\n      <td>2019-01-29</td>\n      <td>342.0</td>\n      <td>342.0</td>\n      <td>340.0</td>\n      <td>341.0</td>\n      <td>2,612.00</td>\n    </tr>\n  </tbody>\n</table>\n<p>1776 rows × 7 columns</p>\n</div>"
     },
     "metadata": {},
     "execution_count": 8
    }
   ],
   "source": [
    "dataset_train"
   ]
  },
  {
   "cell_type": "code",
   "execution_count": 9,
   "metadata": {},
   "outputs": [
    {
     "output_type": "execute_result",
     "data": {
      "text/plain": [
       "      Symbol        Date   Open   High    Low  Close        Vol\n",
       "38712   ADBL  2019-01-30  340.0  341.0  339.0  339.0   3,892.00\n",
       "38738   ADBL  2019-01-31  342.0  342.0  339.0  339.0   5,850.00\n",
       "38764   ADBL  2019-02-03  337.0  340.0  337.0  338.0  12,977.00\n",
       "38790   ADBL  2019-02-04  338.0  340.0  335.0  339.0  13,265.00\n",
       "38816   ADBL  2019-02-05  340.0  340.0  338.0  338.0   5,648.00\n",
       "...      ...         ...    ...    ...    ...    ...        ...\n",
       "49948   ADBL  2021-02-23  460.0  460.0  446.0  455.0  61,301.00\n",
       "49974   ADBL  2021-02-24  477.0  477.0  453.0  459.0  76,992.00\n",
       "50000   ADBL  2021-02-25  466.0  466.0  450.0  455.0  60,468.00\n",
       "50026   ADBL  2021-02-28  450.0  450.0  438.0  441.0  87,385.00\n",
       "50052   ADBL  2021-03-01  441.0  449.0  435.0  445.0  86,938.00\n",
       "\n",
       "[445 rows x 7 columns]"
      ],
      "text/html": "<div>\n<style scoped>\n    .dataframe tbody tr th:only-of-type {\n        vertical-align: middle;\n    }\n\n    .dataframe tbody tr th {\n        vertical-align: top;\n    }\n\n    .dataframe thead th {\n        text-align: right;\n    }\n</style>\n<table border=\"1\" class=\"dataframe\">\n  <thead>\n    <tr style=\"text-align: right;\">\n      <th></th>\n      <th>Symbol</th>\n      <th>Date</th>\n      <th>Open</th>\n      <th>High</th>\n      <th>Low</th>\n      <th>Close</th>\n      <th>Vol</th>\n    </tr>\n  </thead>\n  <tbody>\n    <tr>\n      <th>38712</th>\n      <td>ADBL</td>\n      <td>2019-01-30</td>\n      <td>340.0</td>\n      <td>341.0</td>\n      <td>339.0</td>\n      <td>339.0</td>\n      <td>3,892.00</td>\n    </tr>\n    <tr>\n      <th>38738</th>\n      <td>ADBL</td>\n      <td>2019-01-31</td>\n      <td>342.0</td>\n      <td>342.0</td>\n      <td>339.0</td>\n      <td>339.0</td>\n      <td>5,850.00</td>\n    </tr>\n    <tr>\n      <th>38764</th>\n      <td>ADBL</td>\n      <td>2019-02-03</td>\n      <td>337.0</td>\n      <td>340.0</td>\n      <td>337.0</td>\n      <td>338.0</td>\n      <td>12,977.00</td>\n    </tr>\n    <tr>\n      <th>38790</th>\n      <td>ADBL</td>\n      <td>2019-02-04</td>\n      <td>338.0</td>\n      <td>340.0</td>\n      <td>335.0</td>\n      <td>339.0</td>\n      <td>13,265.00</td>\n    </tr>\n    <tr>\n      <th>38816</th>\n      <td>ADBL</td>\n      <td>2019-02-05</td>\n      <td>340.0</td>\n      <td>340.0</td>\n      <td>338.0</td>\n      <td>338.0</td>\n      <td>5,648.00</td>\n    </tr>\n    <tr>\n      <th>...</th>\n      <td>...</td>\n      <td>...</td>\n      <td>...</td>\n      <td>...</td>\n      <td>...</td>\n      <td>...</td>\n      <td>...</td>\n    </tr>\n    <tr>\n      <th>49948</th>\n      <td>ADBL</td>\n      <td>2021-02-23</td>\n      <td>460.0</td>\n      <td>460.0</td>\n      <td>446.0</td>\n      <td>455.0</td>\n      <td>61,301.00</td>\n    </tr>\n    <tr>\n      <th>49974</th>\n      <td>ADBL</td>\n      <td>2021-02-24</td>\n      <td>477.0</td>\n      <td>477.0</td>\n      <td>453.0</td>\n      <td>459.0</td>\n      <td>76,992.00</td>\n    </tr>\n    <tr>\n      <th>50000</th>\n      <td>ADBL</td>\n      <td>2021-02-25</td>\n      <td>466.0</td>\n      <td>466.0</td>\n      <td>450.0</td>\n      <td>455.0</td>\n      <td>60,468.00</td>\n    </tr>\n    <tr>\n      <th>50026</th>\n      <td>ADBL</td>\n      <td>2021-02-28</td>\n      <td>450.0</td>\n      <td>450.0</td>\n      <td>438.0</td>\n      <td>441.0</td>\n      <td>87,385.00</td>\n    </tr>\n    <tr>\n      <th>50052</th>\n      <td>ADBL</td>\n      <td>2021-03-01</td>\n      <td>441.0</td>\n      <td>449.0</td>\n      <td>435.0</td>\n      <td>445.0</td>\n      <td>86,938.00</td>\n    </tr>\n  </tbody>\n</table>\n<p>445 rows × 7 columns</p>\n</div>"
     },
     "metadata": {},
     "execution_count": 9
    }
   ],
   "source": [
    "dataset_test"
   ]
  },
  {
   "cell_type": "code",
   "execution_count": 10,
   "metadata": {},
   "outputs": [
    {
     "output_type": "execute_result",
     "data": {
      "text/plain": [
       "array([[133.],\n",
       "       [133.],\n",
       "       [135.],\n",
       "       ...,\n",
       "       [339.],\n",
       "       [342.],\n",
       "       [341.]])"
      ]
     },
     "metadata": {},
     "execution_count": 10
    }
   ],
   "source": [
    "training_set=dataset_train.iloc[:,5:6].values\n",
    "training_set "
   ]
  },
  {
   "cell_type": "code",
   "execution_count": 11,
   "metadata": {},
   "outputs": [
    {
     "output_type": "execute_result",
     "data": {
      "text/plain": [
       "array([[0.03579418],\n",
       "       [0.03579418],\n",
       "       [0.03803132],\n",
       "       ...,\n",
       "       [0.26621924],\n",
       "       [0.26957494],\n",
       "       [0.26845638]])"
      ]
     },
     "metadata": {},
     "execution_count": 11
    }
   ],
   "source": [
    "#Feature Scaling\n",
    "from sklearn.preprocessing import MinMaxScaler\n",
    "sc = MinMaxScaler(feature_range=(0,1))\n",
    "training_set_scaled=sc.fit_transform(training_set)\n",
    "training_set_scaled"
   ]
  },
  {
   "cell_type": "code",
   "execution_count": 12,
   "metadata": {},
   "outputs": [],
   "source": [
    "X_train=[]\n",
    "y_train=[]\n",
    "for i in range(60,1776):\n",
    "    X_train.append(training_set_scaled[i-60:i , 0])\n",
    "    y_train.append(training_set_scaled[i , 0])\n",
    "X_train, y_train = np.array(X_train), np.array(y_train)"
   ]
  },
  {
   "cell_type": "code",
   "execution_count": 13,
   "metadata": {},
   "outputs": [
    {
     "output_type": "execute_result",
     "data": {
      "text/plain": [
       "array([[0.03579418, 0.03579418, 0.03803132, ..., 0.03243848, 0.03914989,\n",
       "        0.05145414],\n",
       "       [0.03579418, 0.03803132, 0.03691275, ..., 0.03914989, 0.05145414,\n",
       "        0.05145414],\n",
       "       [0.03803132, 0.03691275, 0.03243848, ..., 0.05145414, 0.05145414,\n",
       "        0.04362416],\n",
       "       ...,\n",
       "       [0.28076063, 0.28076063, 0.27628635, ..., 0.27069351, 0.27069351,\n",
       "        0.26957494],\n",
       "       [0.28076063, 0.27628635, 0.27740492, ..., 0.27069351, 0.26957494,\n",
       "        0.26621924],\n",
       "       [0.27628635, 0.27740492, 0.28299776, ..., 0.26957494, 0.26621924,\n",
       "        0.26957494]])"
      ]
     },
     "metadata": {},
     "execution_count": 13
    }
   ],
   "source": [
    "X_train"
   ]
  },
  {
   "cell_type": "code",
   "execution_count": 14,
   "metadata": {},
   "outputs": [],
   "source": [
    "#Reshaping\n",
    "X_train = np.reshape(X_train, (X_train.shape[0],X_train.shape[1],1))"
   ]
  },
  {
   "cell_type": "code",
   "execution_count": 15,
   "metadata": {},
   "outputs": [],
   "source": [
    "#2 Building RNN"
   ]
  },
  {
   "cell_type": "code",
   "execution_count": 16,
   "metadata": {},
   "outputs": [],
   "source": [
    "#importing keras library and packages\n",
    "from tensorflow.keras.models import Sequential\n",
    "from tensorflow.keras.layers import Dense\n",
    "from tensorflow.keras.layers import LSTM\n",
    "from tensorflow.keras.layers import Dropout"
   ]
  },
  {
   "cell_type": "code",
   "execution_count": 17,
   "metadata": {},
   "outputs": [],
   "source": [
    "#Initialising the RNN\n",
    "regressor = Sequential()"
   ]
  },
  {
   "cell_type": "code",
   "execution_count": 18,
   "metadata": {},
   "outputs": [],
   "source": [
    "#Adding the first LSTM layer and some Dropout regularisation\n",
    "regressor.add(LSTM(units = 50,return_sequences = True, input_shape = (X_train.shape[1],1)))\n",
    "regressor.add(Dropout(0.2))"
   ]
  },
  {
   "cell_type": "code",
   "execution_count": 19,
   "metadata": {},
   "outputs": [],
   "source": [
    "#Adding a second LSTM layer and some Droput regularisation\n",
    "regressor.add(LSTM(units = 50,return_sequences = True))\n",
    "regressor.add(Dropout(0.2))"
   ]
  },
  {
   "cell_type": "code",
   "execution_count": 20,
   "metadata": {},
   "outputs": [],
   "source": [
    "#Adding a third LSTM layer and some Droput regularisation\n",
    "regressor.add(LSTM(units = 50,return_sequences = True))\n",
    "regressor.add(Dropout(0.2))"
   ]
  },
  {
   "cell_type": "code",
   "execution_count": 21,
   "metadata": {},
   "outputs": [],
   "source": [
    "#Adding a fourth LSTM layer and some Droput regularisation\n",
    "regressor.add(LSTM(units = 50))\n",
    "regressor.add(Dropout(0.2))"
   ]
  },
  {
   "cell_type": "code",
   "execution_count": 22,
   "metadata": {},
   "outputs": [],
   "source": [
    "#Adding the output Layer\n",
    "regressor.add(Dense(units = 1))"
   ]
  },
  {
   "cell_type": "code",
   "execution_count": 23,
   "metadata": {},
   "outputs": [],
   "source": [
    "#Compiling the RNN\n",
    "regressor.compile(optimizer = 'adam', loss = 'mean_squared_error')"
   ]
  },
  {
   "cell_type": "code",
   "execution_count": 24,
   "metadata": {
    "tags": []
   },
   "outputs": [
    {
     "output_type": "stream",
     "name": "stdout",
     "text": [
      "Epoch 1/100\n",
      "54/54 [==============================] - 8s 67ms/step - loss: 0.0264\n",
      "Epoch 2/100\n",
      "54/54 [==============================] - 4s 66ms/step - loss: 0.0035\n",
      "Epoch 3/100\n",
      "54/54 [==============================] - 4s 66ms/step - loss: 0.0033\n",
      "Epoch 4/100\n",
      "54/54 [==============================] - 4s 65ms/step - loss: 0.0028\n",
      "Epoch 5/100\n",
      "54/54 [==============================] - 4s 65ms/step - loss: 0.0032\n",
      "Epoch 6/100\n",
      "54/54 [==============================] - 3s 65ms/step - loss: 0.0035\n",
      "Epoch 7/100\n",
      "54/54 [==============================] - 3s 65ms/step - loss: 0.0022\n",
      "Epoch 8/100\n",
      "54/54 [==============================] - 4s 65ms/step - loss: 0.0022\n",
      "Epoch 9/100\n",
      "54/54 [==============================] - 3s 59ms/step - loss: 0.0031\n",
      "Epoch 10/100\n",
      "54/54 [==============================] - 3s 61ms/step - loss: 0.0025\n",
      "Epoch 11/100\n",
      "54/54 [==============================] - 4s 65ms/step - loss: 0.0023\n",
      "Epoch 12/100\n",
      "54/54 [==============================] - 4s 68ms/step - loss: 0.0025\n",
      "Epoch 13/100\n",
      "54/54 [==============================] - 3s 60ms/step - loss: 0.0020\n",
      "Epoch 14/100\n",
      "54/54 [==============================] - 3s 65ms/step - loss: 0.0022\n",
      "Epoch 15/100\n",
      "54/54 [==============================] - 4s 67ms/step - loss: 0.0017\n",
      "Epoch 16/100\n",
      "54/54 [==============================] - 3s 65ms/step - loss: 0.0016\n",
      "Epoch 17/100\n",
      "54/54 [==============================] - 4s 65ms/step - loss: 0.0022\n",
      "Epoch 18/100\n",
      "54/54 [==============================] - 3s 64ms/step - loss: 0.0018\n",
      "Epoch 19/100\n",
      "54/54 [==============================] - 3s 63ms/step - loss: 0.0019\n",
      "Epoch 20/100\n",
      "54/54 [==============================] - 3s 63ms/step - loss: 0.0016\n",
      "Epoch 21/100\n",
      "54/54 [==============================] - 3s 62ms/step - loss: 0.0023\n",
      "Epoch 22/100\n",
      "54/54 [==============================] - 3s 61ms/step - loss: 0.0019\n",
      "Epoch 23/100\n",
      "54/54 [==============================] - 3s 62ms/step - loss: 0.0014\n",
      "Epoch 24/100\n",
      "54/54 [==============================] - 3s 63ms/step - loss: 0.0014\n",
      "Epoch 25/100\n",
      "54/54 [==============================] - 4s 72ms/step - loss: 0.0016\n",
      "Epoch 26/100\n",
      "54/54 [==============================] - 3s 64ms/step - loss: 0.0013\n",
      "Epoch 27/100\n",
      "54/54 [==============================] - 3s 61ms/step - loss: 0.0018\n",
      "Epoch 28/100\n",
      "54/54 [==============================] - 3s 64ms/step - loss: 0.0013\n",
      "Epoch 29/100\n",
      "54/54 [==============================] - 3s 62ms/step - loss: 0.0014\n",
      "Epoch 30/100\n",
      "54/54 [==============================] - 3s 62ms/step - loss: 0.0014\n",
      "Epoch 31/100\n",
      "54/54 [==============================] - 3s 63ms/step - loss: 0.0014\n",
      "Epoch 32/100\n",
      "54/54 [==============================] - 3s 62ms/step - loss: 0.0011\n",
      "Epoch 33/100\n",
      "54/54 [==============================] - 3s 61ms/step - loss: 0.0013\n",
      "Epoch 34/100\n",
      "54/54 [==============================] - 3s 63ms/step - loss: 0.0015\n",
      "Epoch 35/100\n",
      "54/54 [==============================] - 3s 63ms/step - loss: 0.0013\n",
      "Epoch 36/100\n",
      "54/54 [==============================] - 3s 62ms/step - loss: 0.0011\n",
      "Epoch 37/100\n",
      "54/54 [==============================] - 3s 62ms/step - loss: 0.0011\n",
      "Epoch 38/100\n",
      "54/54 [==============================] - 3s 61ms/step - loss: 0.0013\n",
      "Epoch 39/100\n",
      "54/54 [==============================] - 3s 64ms/step - loss: 0.0011\n",
      "Epoch 40/100\n",
      "54/54 [==============================] - 3s 63ms/step - loss: 9.3016e-04\n",
      "Epoch 41/100\n",
      "54/54 [==============================] - 3s 63ms/step - loss: 0.0010\n",
      "Epoch 42/100\n",
      "54/54 [==============================] - 3s 64ms/step - loss: 0.0011\n",
      "Epoch 43/100\n",
      "54/54 [==============================] - 3s 63ms/step - loss: 0.0010\n",
      "Epoch 44/100\n",
      "54/54 [==============================] - 3s 64ms/step - loss: 0.0012\n",
      "Epoch 45/100\n",
      "54/54 [==============================] - 3s 64ms/step - loss: 0.0011\n",
      "Epoch 46/100\n",
      "54/54 [==============================] - 3s 61ms/step - loss: 9.8450e-04\n",
      "Epoch 47/100\n",
      "54/54 [==============================] - 3s 62ms/step - loss: 0.0011\n",
      "Epoch 48/100\n",
      "54/54 [==============================] - 3s 63ms/step - loss: 9.9990e-04\n",
      "Epoch 49/100\n",
      "54/54 [==============================] - 3s 63ms/step - loss: 9.6556e-04\n",
      "Epoch 50/100\n",
      "54/54 [==============================] - 3s 64ms/step - loss: 0.0012\n",
      "Epoch 51/100\n",
      "54/54 [==============================] - 3s 63ms/step - loss: 0.0010\n",
      "Epoch 52/100\n",
      "54/54 [==============================] - 3s 64ms/step - loss: 8.3629e-04\n",
      "Epoch 53/100\n",
      "54/54 [==============================] - 3s 60ms/step - loss: 9.3383e-04\n",
      "Epoch 54/100\n",
      "54/54 [==============================] - 4s 65ms/step - loss: 0.0011\n",
      "Epoch 55/100\n",
      "54/54 [==============================] - 3s 63ms/step - loss: 9.1252e-04\n",
      "Epoch 56/100\n",
      "54/54 [==============================] - 4s 65ms/step - loss: 0.0011\n",
      "Epoch 57/100\n",
      "54/54 [==============================] - 4s 68ms/step - loss: 0.0011\n",
      "Epoch 58/100\n",
      "54/54 [==============================] - 3s 63ms/step - loss: 9.3484e-04\n",
      "Epoch 59/100\n",
      "54/54 [==============================] - 3s 64ms/step - loss: 8.6154e-04\n",
      "Epoch 60/100\n",
      "54/54 [==============================] - 4s 68ms/step - loss: 9.3444e-04\n",
      "Epoch 61/100\n",
      "54/54 [==============================] - 4s 67ms/step - loss: 8.5078e-04\n",
      "Epoch 62/100\n",
      "54/54 [==============================] - 4s 66ms/step - loss: 8.1141e-04\n",
      "Epoch 63/100\n",
      "54/54 [==============================] - 4s 66ms/step - loss: 9.4642e-04\n",
      "Epoch 64/100\n",
      "54/54 [==============================] - 4s 65ms/step - loss: 9.0614e-04\n",
      "Epoch 65/100\n",
      "54/54 [==============================] - 4s 66ms/step - loss: 7.6302e-04\n",
      "Epoch 66/100\n",
      "54/54 [==============================] - 4s 67ms/step - loss: 8.6531e-04\n",
      "Epoch 67/100\n",
      "54/54 [==============================] - 4s 67ms/step - loss: 9.1753e-04\n",
      "Epoch 68/100\n",
      "54/54 [==============================] - 4s 66ms/step - loss: 7.5351e-04\n",
      "Epoch 69/100\n",
      "54/54 [==============================] - 4s 70ms/step - loss: 8.3595e-04\n",
      "Epoch 70/100\n",
      "54/54 [==============================] - 4s 65ms/step - loss: 8.1887e-04\n",
      "Epoch 71/100\n",
      "54/54 [==============================] - 3s 62ms/step - loss: 8.3166e-04\n",
      "Epoch 72/100\n",
      "54/54 [==============================] - 3s 61ms/step - loss: 9.1010e-04\n",
      "Epoch 73/100\n",
      "54/54 [==============================] - 3s 61ms/step - loss: 8.5579e-04\n",
      "Epoch 74/100\n",
      "54/54 [==============================] - 4s 66ms/step - loss: 8.1930e-04\n",
      "Epoch 75/100\n",
      "54/54 [==============================] - 3s 64ms/step - loss: 8.4628e-04\n",
      "Epoch 76/100\n",
      "54/54 [==============================] - 3s 62ms/step - loss: 7.3796e-04\n",
      "Epoch 77/100\n",
      "54/54 [==============================] - 3s 63ms/step - loss: 8.0320e-04\n",
      "Epoch 78/100\n",
      "54/54 [==============================] - 3s 63ms/step - loss: 8.1396e-04\n",
      "Epoch 79/100\n",
      "54/54 [==============================] - 3s 64ms/step - loss: 9.9838e-04\n",
      "Epoch 80/100\n",
      "54/54 [==============================] - 3s 63ms/step - loss: 8.3184e-04\n",
      "Epoch 81/100\n",
      "54/54 [==============================] - 3s 63ms/step - loss: 7.8139e-04\n",
      "Epoch 82/100\n",
      "54/54 [==============================] - 3s 58ms/step - loss: 7.9243e-04\n",
      "Epoch 83/100\n",
      "54/54 [==============================] - 3s 60ms/step - loss: 7.9246e-04\n",
      "Epoch 84/100\n",
      "54/54 [==============================] - 3s 60ms/step - loss: 7.6708e-04\n",
      "Epoch 85/100\n",
      "54/54 [==============================] - 3s 60ms/step - loss: 6.8476e-04\n",
      "Epoch 86/100\n",
      "54/54 [==============================] - 3s 61ms/step - loss: 7.3702e-04\n",
      "Epoch 87/100\n",
      "54/54 [==============================] - 3s 61ms/step - loss: 8.9232e-04\n",
      "Epoch 88/100\n",
      "54/54 [==============================] - 3s 59ms/step - loss: 6.4006e-04\n",
      "Epoch 89/100\n",
      "54/54 [==============================] - 3s 62ms/step - loss: 7.9847e-04\n",
      "Epoch 90/100\n",
      "54/54 [==============================] - 3s 58ms/step - loss: 6.4188e-04\n",
      "Epoch 91/100\n",
      "54/54 [==============================] - 3s 60ms/step - loss: 6.9060e-04\n",
      "Epoch 92/100\n",
      "54/54 [==============================] - 3s 58ms/step - loss: 7.2637e-04\n",
      "Epoch 93/100\n",
      "54/54 [==============================] - 3s 58ms/step - loss: 8.6254e-04\n",
      "Epoch 94/100\n",
      "54/54 [==============================] - 3s 61ms/step - loss: 7.2780e-04\n",
      "Epoch 95/100\n",
      "54/54 [==============================] - 3s 61ms/step - loss: 6.8804e-04\n",
      "Epoch 96/100\n",
      "54/54 [==============================] - 3s 59ms/step - loss: 6.4276e-04\n",
      "Epoch 97/100\n",
      "54/54 [==============================] - 3s 60ms/step - loss: 7.4486e-04\n",
      "Epoch 98/100\n",
      "54/54 [==============================] - 3s 59ms/step - loss: 7.7014e-04\n",
      "Epoch 99/100\n",
      "54/54 [==============================] - 3s 60ms/step - loss: 6.6764e-04\n",
      "Epoch 100/100\n",
      "54/54 [==============================] - 3s 60ms/step - loss: 8.8371e-04\n"
     ]
    },
    {
     "output_type": "execute_result",
     "data": {
      "text/plain": [
       "<tensorflow.python.keras.callbacks.History at 0x13198d5dfd0>"
      ]
     },
     "metadata": {},
     "execution_count": 24
    }
   ],
   "source": [
    "#Fitting the RNN to the Training set\n",
    "regressor.fit(X_train, y_train, epochs = 100,batch_size = 32)"
   ]
  },
  {
   "cell_type": "code",
   "execution_count": 25,
   "metadata": {},
   "outputs": [],
   "source": [
    "#3.Making the prediction and visualising the results\n",
    "regressor.save(\"models/ADBL.h5\")"
   ]
  },
  {
   "cell_type": "code",
   "execution_count": 26,
   "metadata": {},
   "outputs": [],
   "source": [
    "#Getting the real stock price of next months\n",
    "#dataset_test = pd.read_csv('ADBL_test_data.csv')\n",
    "real_stock_price = dataset_test.iloc[:,5:6].values"
   ]
  },
  {
   "cell_type": "code",
   "execution_count": 28,
   "metadata": {},
   "outputs": [],
   "source": [
    "#Getting the predicted stock price of next month\n",
    "dataset_total = pd.concat((dataset_train['Close'],dataset_test['Close']),axis = 0)\n",
    "inputs = dataset_total[len(dataset_total)-len(dataset_test)-60:].values\n",
    "inputs = inputs.reshape(-1,1)\n",
    "inputs = sc.transform(inputs)\n",
    "X_test = []\n",
    "for i in range(60,506):\n",
    "    X_test.append(inputs[i-60:i,0])\n",
    "X_test=np.array(X_test)\n",
    "X_test=np.reshape(X_test, (X_test.shape[0],X_test.shape[1],1))\n",
    "predicted_stock_price = regressor.predict(X_test)\n",
    "predicted_stock_price = sc.inverse_transform(predicted_stock_price)"
   ]
  },
  {
   "cell_type": "code",
   "execution_count": 29,
   "metadata": {},
   "outputs": [
    {
     "output_type": "display_data",
     "data": {
      "text/plain": "<Figure size 432x288 with 1 Axes>",
      "image/svg+xml": "<?xml version=\"1.0\" encoding=\"utf-8\" standalone=\"no\"?>\r\n<!DOCTYPE svg PUBLIC \"-//W3C//DTD SVG 1.1//EN\"\r\n  \"http://www.w3.org/Graphics/SVG/1.1/DTD/svg11.dtd\">\r\n<!-- Created with matplotlib (https://matplotlib.org/) -->\r\n<svg height=\"277.314375pt\" version=\"1.1\" viewBox=\"0 0 388.965625 277.314375\" width=\"388.965625pt\" xmlns=\"http://www.w3.org/2000/svg\" xmlns:xlink=\"http://www.w3.org/1999/xlink\">\r\n <metadata>\r\n  <rdf:RDF xmlns:cc=\"http://creativecommons.org/ns#\" xmlns:dc=\"http://purl.org/dc/elements/1.1/\" xmlns:rdf=\"http://www.w3.org/1999/02/22-rdf-syntax-ns#\">\r\n   <cc:Work>\r\n    <dc:type rdf:resource=\"http://purl.org/dc/dcmitype/StillImage\"/>\r\n    <dc:date>2021-03-05T22:40:52.136748</dc:date>\r\n    <dc:format>image/svg+xml</dc:format>\r\n    <dc:creator>\r\n     <cc:Agent>\r\n      <dc:title>Matplotlib v3.3.4, https://matplotlib.org/</dc:title>\r\n     </cc:Agent>\r\n    </dc:creator>\r\n   </cc:Work>\r\n  </rdf:RDF>\r\n </metadata>\r\n <defs>\r\n  <style type=\"text/css\">*{stroke-linecap:butt;stroke-linejoin:round;}</style>\r\n </defs>\r\n <g id=\"figure_1\">\r\n  <g id=\"patch_1\">\r\n   <path d=\"M 0 277.314375 \r\nL 388.965625 277.314375 \r\nL 388.965625 0 \r\nL 0 0 \r\nz\r\n\" style=\"fill:none;\"/>\r\n  </g>\r\n  <g id=\"axes_1\">\r\n   <g id=\"patch_2\">\r\n    <path d=\"M 46.965625 239.758125 \r\nL 381.765625 239.758125 \r\nL 381.765625 22.318125 \r\nL 46.965625 22.318125 \r\nz\r\n\" style=\"fill:#ffffff;\"/>\r\n   </g>\r\n   <g id=\"matplotlib.axis_1\">\r\n    <g id=\"xtick_1\">\r\n     <g id=\"line2d_1\">\r\n      <defs>\r\n       <path d=\"M 0 0 \r\nL 0 3.5 \r\n\" id=\"md0369ec1ab\" style=\"stroke:#000000;stroke-width:0.8;\"/>\r\n      </defs>\r\n      <g>\r\n       <use style=\"stroke:#000000;stroke-width:0.8;\" x=\"62.183807\" xlink:href=\"#md0369ec1ab\" y=\"239.758125\"/>\r\n      </g>\r\n     </g>\r\n     <g id=\"text_1\">\r\n      <!-- 0 -->\r\n      <g transform=\"translate(59.002557 254.356562)scale(0.1 -0.1)\">\r\n       <defs>\r\n        <path d=\"M 31.78125 66.40625 \r\nQ 24.171875 66.40625 20.328125 58.90625 \r\nQ 16.5 51.421875 16.5 36.375 \r\nQ 16.5 21.390625 20.328125 13.890625 \r\nQ 24.171875 6.390625 31.78125 6.390625 \r\nQ 39.453125 6.390625 43.28125 13.890625 \r\nQ 47.125 21.390625 47.125 36.375 \r\nQ 47.125 51.421875 43.28125 58.90625 \r\nQ 39.453125 66.40625 31.78125 66.40625 \r\nz\r\nM 31.78125 74.21875 \r\nQ 44.046875 74.21875 50.515625 64.515625 \r\nQ 56.984375 54.828125 56.984375 36.375 \r\nQ 56.984375 17.96875 50.515625 8.265625 \r\nQ 44.046875 -1.421875 31.78125 -1.421875 \r\nQ 19.53125 -1.421875 13.0625 8.265625 \r\nQ 6.59375 17.96875 6.59375 36.375 \r\nQ 6.59375 54.828125 13.0625 64.515625 \r\nQ 19.53125 74.21875 31.78125 74.21875 \r\nz\r\n\" id=\"DejaVuSans-48\"/>\r\n       </defs>\r\n       <use xlink:href=\"#DejaVuSans-48\"/>\r\n      </g>\r\n     </g>\r\n    </g>\r\n    <g id=\"xtick_2\">\r\n     <g id=\"line2d_2\">\r\n      <g>\r\n       <use style=\"stroke:#000000;stroke-width:0.8;\" x=\"130.58013\" xlink:href=\"#md0369ec1ab\" y=\"239.758125\"/>\r\n      </g>\r\n     </g>\r\n     <g id=\"text_2\">\r\n      <!-- 100 -->\r\n      <g transform=\"translate(121.03638 254.356562)scale(0.1 -0.1)\">\r\n       <defs>\r\n        <path d=\"M 12.40625 8.296875 \r\nL 28.515625 8.296875 \r\nL 28.515625 63.921875 \r\nL 10.984375 60.40625 \r\nL 10.984375 69.390625 \r\nL 28.421875 72.90625 \r\nL 38.28125 72.90625 \r\nL 38.28125 8.296875 \r\nL 54.390625 8.296875 \r\nL 54.390625 0 \r\nL 12.40625 0 \r\nz\r\n\" id=\"DejaVuSans-49\"/>\r\n       </defs>\r\n       <use xlink:href=\"#DejaVuSans-49\"/>\r\n       <use x=\"63.623047\" xlink:href=\"#DejaVuSans-48\"/>\r\n       <use x=\"127.246094\" xlink:href=\"#DejaVuSans-48\"/>\r\n      </g>\r\n     </g>\r\n    </g>\r\n    <g id=\"xtick_3\">\r\n     <g id=\"line2d_3\">\r\n      <g>\r\n       <use style=\"stroke:#000000;stroke-width:0.8;\" x=\"198.976452\" xlink:href=\"#md0369ec1ab\" y=\"239.758125\"/>\r\n      </g>\r\n     </g>\r\n     <g id=\"text_3\">\r\n      <!-- 200 -->\r\n      <g transform=\"translate(189.432702 254.356562)scale(0.1 -0.1)\">\r\n       <defs>\r\n        <path d=\"M 19.1875 8.296875 \r\nL 53.609375 8.296875 \r\nL 53.609375 0 \r\nL 7.328125 0 \r\nL 7.328125 8.296875 \r\nQ 12.9375 14.109375 22.625 23.890625 \r\nQ 32.328125 33.6875 34.8125 36.53125 \r\nQ 39.546875 41.84375 41.421875 45.53125 \r\nQ 43.3125 49.21875 43.3125 52.78125 \r\nQ 43.3125 58.59375 39.234375 62.25 \r\nQ 35.15625 65.921875 28.609375 65.921875 \r\nQ 23.96875 65.921875 18.8125 64.3125 \r\nQ 13.671875 62.703125 7.8125 59.421875 \r\nL 7.8125 69.390625 \r\nQ 13.765625 71.78125 18.9375 73 \r\nQ 24.125 74.21875 28.421875 74.21875 \r\nQ 39.75 74.21875 46.484375 68.546875 \r\nQ 53.21875 62.890625 53.21875 53.421875 \r\nQ 53.21875 48.921875 51.53125 44.890625 \r\nQ 49.859375 40.875 45.40625 35.40625 \r\nQ 44.1875 33.984375 37.640625 27.21875 \r\nQ 31.109375 20.453125 19.1875 8.296875 \r\nz\r\n\" id=\"DejaVuSans-50\"/>\r\n       </defs>\r\n       <use xlink:href=\"#DejaVuSans-50\"/>\r\n       <use x=\"63.623047\" xlink:href=\"#DejaVuSans-48\"/>\r\n       <use x=\"127.246094\" xlink:href=\"#DejaVuSans-48\"/>\r\n      </g>\r\n     </g>\r\n    </g>\r\n    <g id=\"xtick_4\">\r\n     <g id=\"line2d_4\">\r\n      <g>\r\n       <use style=\"stroke:#000000;stroke-width:0.8;\" x=\"267.372775\" xlink:href=\"#md0369ec1ab\" y=\"239.758125\"/>\r\n      </g>\r\n     </g>\r\n     <g id=\"text_4\">\r\n      <!-- 300 -->\r\n      <g transform=\"translate(257.829025 254.356562)scale(0.1 -0.1)\">\r\n       <defs>\r\n        <path d=\"M 40.578125 39.3125 \r\nQ 47.65625 37.796875 51.625 33 \r\nQ 55.609375 28.21875 55.609375 21.1875 \r\nQ 55.609375 10.40625 48.1875 4.484375 \r\nQ 40.765625 -1.421875 27.09375 -1.421875 \r\nQ 22.515625 -1.421875 17.65625 -0.515625 \r\nQ 12.796875 0.390625 7.625 2.203125 \r\nL 7.625 11.71875 \r\nQ 11.71875 9.328125 16.59375 8.109375 \r\nQ 21.484375 6.890625 26.8125 6.890625 \r\nQ 36.078125 6.890625 40.9375 10.546875 \r\nQ 45.796875 14.203125 45.796875 21.1875 \r\nQ 45.796875 27.640625 41.28125 31.265625 \r\nQ 36.765625 34.90625 28.71875 34.90625 \r\nL 20.21875 34.90625 \r\nL 20.21875 43.015625 \r\nL 29.109375 43.015625 \r\nQ 36.375 43.015625 40.234375 45.921875 \r\nQ 44.09375 48.828125 44.09375 54.296875 \r\nQ 44.09375 59.90625 40.109375 62.90625 \r\nQ 36.140625 65.921875 28.71875 65.921875 \r\nQ 24.65625 65.921875 20.015625 65.03125 \r\nQ 15.375 64.15625 9.8125 62.3125 \r\nL 9.8125 71.09375 \r\nQ 15.4375 72.65625 20.34375 73.4375 \r\nQ 25.25 74.21875 29.59375 74.21875 \r\nQ 40.828125 74.21875 47.359375 69.109375 \r\nQ 53.90625 64.015625 53.90625 55.328125 \r\nQ 53.90625 49.265625 50.4375 45.09375 \r\nQ 46.96875 40.921875 40.578125 39.3125 \r\nz\r\n\" id=\"DejaVuSans-51\"/>\r\n       </defs>\r\n       <use xlink:href=\"#DejaVuSans-51\"/>\r\n       <use x=\"63.623047\" xlink:href=\"#DejaVuSans-48\"/>\r\n       <use x=\"127.246094\" xlink:href=\"#DejaVuSans-48\"/>\r\n      </g>\r\n     </g>\r\n    </g>\r\n    <g id=\"xtick_5\">\r\n     <g id=\"line2d_5\">\r\n      <g>\r\n       <use style=\"stroke:#000000;stroke-width:0.8;\" x=\"335.769098\" xlink:href=\"#md0369ec1ab\" y=\"239.758125\"/>\r\n      </g>\r\n     </g>\r\n     <g id=\"text_5\">\r\n      <!-- 400 -->\r\n      <g transform=\"translate(326.225348 254.356562)scale(0.1 -0.1)\">\r\n       <defs>\r\n        <path d=\"M 37.796875 64.3125 \r\nL 12.890625 25.390625 \r\nL 37.796875 25.390625 \r\nz\r\nM 35.203125 72.90625 \r\nL 47.609375 72.90625 \r\nL 47.609375 25.390625 \r\nL 58.015625 25.390625 \r\nL 58.015625 17.1875 \r\nL 47.609375 17.1875 \r\nL 47.609375 0 \r\nL 37.796875 0 \r\nL 37.796875 17.1875 \r\nL 4.890625 17.1875 \r\nL 4.890625 26.703125 \r\nz\r\n\" id=\"DejaVuSans-52\"/>\r\n       </defs>\r\n       <use xlink:href=\"#DejaVuSans-52\"/>\r\n       <use x=\"63.623047\" xlink:href=\"#DejaVuSans-48\"/>\r\n       <use x=\"127.246094\" xlink:href=\"#DejaVuSans-48\"/>\r\n      </g>\r\n     </g>\r\n    </g>\r\n    <g id=\"text_6\">\r\n     <!-- Time -->\r\n     <g transform=\"translate(202.132031 268.034687)scale(0.1 -0.1)\">\r\n      <defs>\r\n       <path d=\"M -0.296875 72.90625 \r\nL 61.375 72.90625 \r\nL 61.375 64.59375 \r\nL 35.5 64.59375 \r\nL 35.5 0 \r\nL 25.59375 0 \r\nL 25.59375 64.59375 \r\nL -0.296875 64.59375 \r\nz\r\n\" id=\"DejaVuSans-84\"/>\r\n       <path d=\"M 9.421875 54.6875 \r\nL 18.40625 54.6875 \r\nL 18.40625 0 \r\nL 9.421875 0 \r\nz\r\nM 9.421875 75.984375 \r\nL 18.40625 75.984375 \r\nL 18.40625 64.59375 \r\nL 9.421875 64.59375 \r\nz\r\n\" id=\"DejaVuSans-105\"/>\r\n       <path d=\"M 52 44.1875 \r\nQ 55.375 50.25 60.0625 53.125 \r\nQ 64.75 56 71.09375 56 \r\nQ 79.640625 56 84.28125 50.015625 \r\nQ 88.921875 44.046875 88.921875 33.015625 \r\nL 88.921875 0 \r\nL 79.890625 0 \r\nL 79.890625 32.71875 \r\nQ 79.890625 40.578125 77.09375 44.375 \r\nQ 74.3125 48.1875 68.609375 48.1875 \r\nQ 61.625 48.1875 57.5625 43.546875 \r\nQ 53.515625 38.921875 53.515625 30.90625 \r\nL 53.515625 0 \r\nL 44.484375 0 \r\nL 44.484375 32.71875 \r\nQ 44.484375 40.625 41.703125 44.40625 \r\nQ 38.921875 48.1875 33.109375 48.1875 \r\nQ 26.21875 48.1875 22.15625 43.53125 \r\nQ 18.109375 38.875 18.109375 30.90625 \r\nL 18.109375 0 \r\nL 9.078125 0 \r\nL 9.078125 54.6875 \r\nL 18.109375 54.6875 \r\nL 18.109375 46.1875 \r\nQ 21.1875 51.21875 25.484375 53.609375 \r\nQ 29.78125 56 35.6875 56 \r\nQ 41.65625 56 45.828125 52.96875 \r\nQ 50 49.953125 52 44.1875 \r\nz\r\n\" id=\"DejaVuSans-109\"/>\r\n       <path d=\"M 56.203125 29.59375 \r\nL 56.203125 25.203125 \r\nL 14.890625 25.203125 \r\nQ 15.484375 15.921875 20.484375 11.0625 \r\nQ 25.484375 6.203125 34.421875 6.203125 \r\nQ 39.59375 6.203125 44.453125 7.46875 \r\nQ 49.3125 8.734375 54.109375 11.28125 \r\nL 54.109375 2.78125 \r\nQ 49.265625 0.734375 44.1875 -0.34375 \r\nQ 39.109375 -1.421875 33.890625 -1.421875 \r\nQ 20.796875 -1.421875 13.15625 6.1875 \r\nQ 5.515625 13.8125 5.515625 26.8125 \r\nQ 5.515625 40.234375 12.765625 48.109375 \r\nQ 20.015625 56 32.328125 56 \r\nQ 43.359375 56 49.78125 48.890625 \r\nQ 56.203125 41.796875 56.203125 29.59375 \r\nz\r\nM 47.21875 32.234375 \r\nQ 47.125 39.59375 43.09375 43.984375 \r\nQ 39.0625 48.390625 32.421875 48.390625 \r\nQ 24.90625 48.390625 20.390625 44.140625 \r\nQ 15.875 39.890625 15.1875 32.171875 \r\nz\r\n\" id=\"DejaVuSans-101\"/>\r\n      </defs>\r\n      <use xlink:href=\"#DejaVuSans-84\"/>\r\n      <use x=\"57.958984\" xlink:href=\"#DejaVuSans-105\"/>\r\n      <use x=\"85.742188\" xlink:href=\"#DejaVuSans-109\"/>\r\n      <use x=\"183.154297\" xlink:href=\"#DejaVuSans-101\"/>\r\n     </g>\r\n    </g>\r\n   </g>\r\n   <g id=\"matplotlib.axis_2\">\r\n    <g id=\"ytick_1\">\r\n     <g id=\"line2d_6\">\r\n      <defs>\r\n       <path d=\"M 0 0 \r\nL -3.5 0 \r\n\" id=\"me7a25b2995\" style=\"stroke:#000000;stroke-width:0.8;\"/>\r\n      </defs>\r\n      <g>\r\n       <use style=\"stroke:#000000;stroke-width:0.8;\" x=\"46.965625\" xlink:href=\"#me7a25b2995\" y=\"223.83868\"/>\r\n      </g>\r\n     </g>\r\n     <g id=\"text_7\">\r\n      <!-- 300 -->\r\n      <g transform=\"translate(20.878125 227.637899)scale(0.1 -0.1)\">\r\n       <use xlink:href=\"#DejaVuSans-51\"/>\r\n       <use x=\"63.623047\" xlink:href=\"#DejaVuSans-48\"/>\r\n       <use x=\"127.246094\" xlink:href=\"#DejaVuSans-48\"/>\r\n      </g>\r\n     </g>\r\n    </g>\r\n    <g id=\"ytick_2\">\r\n     <g id=\"line2d_7\">\r\n      <g>\r\n       <use style=\"stroke:#000000;stroke-width:0.8;\" x=\"46.965625\" xlink:href=\"#me7a25b2995\" y=\"186.114877\"/>\r\n      </g>\r\n     </g>\r\n     <g id=\"text_8\">\r\n      <!-- 350 -->\r\n      <g transform=\"translate(20.878125 189.914096)scale(0.1 -0.1)\">\r\n       <defs>\r\n        <path d=\"M 10.796875 72.90625 \r\nL 49.515625 72.90625 \r\nL 49.515625 64.59375 \r\nL 19.828125 64.59375 \r\nL 19.828125 46.734375 \r\nQ 21.96875 47.46875 24.109375 47.828125 \r\nQ 26.265625 48.1875 28.421875 48.1875 \r\nQ 40.625 48.1875 47.75 41.5 \r\nQ 54.890625 34.8125 54.890625 23.390625 \r\nQ 54.890625 11.625 47.5625 5.09375 \r\nQ 40.234375 -1.421875 26.90625 -1.421875 \r\nQ 22.3125 -1.421875 17.546875 -0.640625 \r\nQ 12.796875 0.140625 7.71875 1.703125 \r\nL 7.71875 11.625 \r\nQ 12.109375 9.234375 16.796875 8.0625 \r\nQ 21.484375 6.890625 26.703125 6.890625 \r\nQ 35.15625 6.890625 40.078125 11.328125 \r\nQ 45.015625 15.765625 45.015625 23.390625 \r\nQ 45.015625 31 40.078125 35.4375 \r\nQ 35.15625 39.890625 26.703125 39.890625 \r\nQ 22.75 39.890625 18.8125 39.015625 \r\nQ 14.890625 38.140625 10.796875 36.28125 \r\nz\r\n\" id=\"DejaVuSans-53\"/>\r\n       </defs>\r\n       <use xlink:href=\"#DejaVuSans-51\"/>\r\n       <use x=\"63.623047\" xlink:href=\"#DejaVuSans-53\"/>\r\n       <use x=\"127.246094\" xlink:href=\"#DejaVuSans-48\"/>\r\n      </g>\r\n     </g>\r\n    </g>\r\n    <g id=\"ytick_3\">\r\n     <g id=\"line2d_8\">\r\n      <g>\r\n       <use style=\"stroke:#000000;stroke-width:0.8;\" x=\"46.965625\" xlink:href=\"#me7a25b2995\" y=\"148.391074\"/>\r\n      </g>\r\n     </g>\r\n     <g id=\"text_9\">\r\n      <!-- 400 -->\r\n      <g transform=\"translate(20.878125 152.190293)scale(0.1 -0.1)\">\r\n       <use xlink:href=\"#DejaVuSans-52\"/>\r\n       <use x=\"63.623047\" xlink:href=\"#DejaVuSans-48\"/>\r\n       <use x=\"127.246094\" xlink:href=\"#DejaVuSans-48\"/>\r\n      </g>\r\n     </g>\r\n    </g>\r\n    <g id=\"ytick_4\">\r\n     <g id=\"line2d_9\">\r\n      <g>\r\n       <use style=\"stroke:#000000;stroke-width:0.8;\" x=\"46.965625\" xlink:href=\"#me7a25b2995\" y=\"110.667271\"/>\r\n      </g>\r\n     </g>\r\n     <g id=\"text_10\">\r\n      <!-- 450 -->\r\n      <g transform=\"translate(20.878125 114.46649)scale(0.1 -0.1)\">\r\n       <use xlink:href=\"#DejaVuSans-52\"/>\r\n       <use x=\"63.623047\" xlink:href=\"#DejaVuSans-53\"/>\r\n       <use x=\"127.246094\" xlink:href=\"#DejaVuSans-48\"/>\r\n      </g>\r\n     </g>\r\n    </g>\r\n    <g id=\"ytick_5\">\r\n     <g id=\"line2d_10\">\r\n      <g>\r\n       <use style=\"stroke:#000000;stroke-width:0.8;\" x=\"46.965625\" xlink:href=\"#me7a25b2995\" y=\"72.943469\"/>\r\n      </g>\r\n     </g>\r\n     <g id=\"text_11\">\r\n      <!-- 500 -->\r\n      <g transform=\"translate(20.878125 76.742687)scale(0.1 -0.1)\">\r\n       <use xlink:href=\"#DejaVuSans-53\"/>\r\n       <use x=\"63.623047\" xlink:href=\"#DejaVuSans-48\"/>\r\n       <use x=\"127.246094\" xlink:href=\"#DejaVuSans-48\"/>\r\n      </g>\r\n     </g>\r\n    </g>\r\n    <g id=\"ytick_6\">\r\n     <g id=\"line2d_11\">\r\n      <g>\r\n       <use style=\"stroke:#000000;stroke-width:0.8;\" x=\"46.965625\" xlink:href=\"#me7a25b2995\" y=\"35.219666\"/>\r\n      </g>\r\n     </g>\r\n     <g id=\"text_12\">\r\n      <!-- 550 -->\r\n      <g transform=\"translate(20.878125 39.018884)scale(0.1 -0.1)\">\r\n       <use xlink:href=\"#DejaVuSans-53\"/>\r\n       <use x=\"63.623047\" xlink:href=\"#DejaVuSans-53\"/>\r\n       <use x=\"127.246094\" xlink:href=\"#DejaVuSans-48\"/>\r\n      </g>\r\n     </g>\r\n    </g>\r\n    <g id=\"text_13\">\r\n     <!-- ADBL stock Price -->\r\n     <g transform=\"translate(14.798438 173.169375)rotate(-90)scale(0.1 -0.1)\">\r\n      <defs>\r\n       <path d=\"M 34.1875 63.1875 \r\nL 20.796875 26.90625 \r\nL 47.609375 26.90625 \r\nz\r\nM 28.609375 72.90625 \r\nL 39.796875 72.90625 \r\nL 67.578125 0 \r\nL 57.328125 0 \r\nL 50.6875 18.703125 \r\nL 17.828125 18.703125 \r\nL 11.1875 0 \r\nL 0.78125 0 \r\nz\r\n\" id=\"DejaVuSans-65\"/>\r\n       <path d=\"M 19.671875 64.796875 \r\nL 19.671875 8.109375 \r\nL 31.59375 8.109375 \r\nQ 46.6875 8.109375 53.6875 14.9375 \r\nQ 60.6875 21.78125 60.6875 36.53125 \r\nQ 60.6875 51.171875 53.6875 57.984375 \r\nQ 46.6875 64.796875 31.59375 64.796875 \r\nz\r\nM 9.8125 72.90625 \r\nL 30.078125 72.90625 \r\nQ 51.265625 72.90625 61.171875 64.09375 \r\nQ 71.09375 55.28125 71.09375 36.53125 \r\nQ 71.09375 17.671875 61.125 8.828125 \r\nQ 51.171875 0 30.078125 0 \r\nL 9.8125 0 \r\nz\r\n\" id=\"DejaVuSans-68\"/>\r\n       <path d=\"M 19.671875 34.8125 \r\nL 19.671875 8.109375 \r\nL 35.5 8.109375 \r\nQ 43.453125 8.109375 47.28125 11.40625 \r\nQ 51.125 14.703125 51.125 21.484375 \r\nQ 51.125 28.328125 47.28125 31.5625 \r\nQ 43.453125 34.8125 35.5 34.8125 \r\nz\r\nM 19.671875 64.796875 \r\nL 19.671875 42.828125 \r\nL 34.28125 42.828125 \r\nQ 41.5 42.828125 45.03125 45.53125 \r\nQ 48.578125 48.25 48.578125 53.8125 \r\nQ 48.578125 59.328125 45.03125 62.0625 \r\nQ 41.5 64.796875 34.28125 64.796875 \r\nz\r\nM 9.8125 72.90625 \r\nL 35.015625 72.90625 \r\nQ 46.296875 72.90625 52.390625 68.21875 \r\nQ 58.5 63.53125 58.5 54.890625 \r\nQ 58.5 48.1875 55.375 44.234375 \r\nQ 52.25 40.28125 46.1875 39.3125 \r\nQ 53.46875 37.75 57.5 32.78125 \r\nQ 61.53125 27.828125 61.53125 20.40625 \r\nQ 61.53125 10.640625 54.890625 5.3125 \r\nQ 48.25 0 35.984375 0 \r\nL 9.8125 0 \r\nz\r\n\" id=\"DejaVuSans-66\"/>\r\n       <path d=\"M 9.8125 72.90625 \r\nL 19.671875 72.90625 \r\nL 19.671875 8.296875 \r\nL 55.171875 8.296875 \r\nL 55.171875 0 \r\nL 9.8125 0 \r\nz\r\n\" id=\"DejaVuSans-76\"/>\r\n       <path id=\"DejaVuSans-32\"/>\r\n       <path d=\"M 44.28125 53.078125 \r\nL 44.28125 44.578125 \r\nQ 40.484375 46.53125 36.375 47.5 \r\nQ 32.28125 48.484375 27.875 48.484375 \r\nQ 21.1875 48.484375 17.84375 46.4375 \r\nQ 14.5 44.390625 14.5 40.28125 \r\nQ 14.5 37.15625 16.890625 35.375 \r\nQ 19.28125 33.59375 26.515625 31.984375 \r\nL 29.59375 31.296875 \r\nQ 39.15625 29.25 43.1875 25.515625 \r\nQ 47.21875 21.78125 47.21875 15.09375 \r\nQ 47.21875 7.46875 41.1875 3.015625 \r\nQ 35.15625 -1.421875 24.609375 -1.421875 \r\nQ 20.21875 -1.421875 15.453125 -0.5625 \r\nQ 10.6875 0.296875 5.421875 2 \r\nL 5.421875 11.28125 \r\nQ 10.40625 8.6875 15.234375 7.390625 \r\nQ 20.0625 6.109375 24.8125 6.109375 \r\nQ 31.15625 6.109375 34.5625 8.28125 \r\nQ 37.984375 10.453125 37.984375 14.40625 \r\nQ 37.984375 18.0625 35.515625 20.015625 \r\nQ 33.0625 21.96875 24.703125 23.78125 \r\nL 21.578125 24.515625 \r\nQ 13.234375 26.265625 9.515625 29.90625 \r\nQ 5.8125 33.546875 5.8125 39.890625 \r\nQ 5.8125 47.609375 11.28125 51.796875 \r\nQ 16.75 56 26.8125 56 \r\nQ 31.78125 56 36.171875 55.265625 \r\nQ 40.578125 54.546875 44.28125 53.078125 \r\nz\r\n\" id=\"DejaVuSans-115\"/>\r\n       <path d=\"M 18.3125 70.21875 \r\nL 18.3125 54.6875 \r\nL 36.8125 54.6875 \r\nL 36.8125 47.703125 \r\nL 18.3125 47.703125 \r\nL 18.3125 18.015625 \r\nQ 18.3125 11.328125 20.140625 9.421875 \r\nQ 21.96875 7.515625 27.59375 7.515625 \r\nL 36.8125 7.515625 \r\nL 36.8125 0 \r\nL 27.59375 0 \r\nQ 17.1875 0 13.234375 3.875 \r\nQ 9.28125 7.765625 9.28125 18.015625 \r\nL 9.28125 47.703125 \r\nL 2.6875 47.703125 \r\nL 2.6875 54.6875 \r\nL 9.28125 54.6875 \r\nL 9.28125 70.21875 \r\nz\r\n\" id=\"DejaVuSans-116\"/>\r\n       <path d=\"M 30.609375 48.390625 \r\nQ 23.390625 48.390625 19.1875 42.75 \r\nQ 14.984375 37.109375 14.984375 27.296875 \r\nQ 14.984375 17.484375 19.15625 11.84375 \r\nQ 23.34375 6.203125 30.609375 6.203125 \r\nQ 37.796875 6.203125 41.984375 11.859375 \r\nQ 46.1875 17.53125 46.1875 27.296875 \r\nQ 46.1875 37.015625 41.984375 42.703125 \r\nQ 37.796875 48.390625 30.609375 48.390625 \r\nz\r\nM 30.609375 56 \r\nQ 42.328125 56 49.015625 48.375 \r\nQ 55.71875 40.765625 55.71875 27.296875 \r\nQ 55.71875 13.875 49.015625 6.21875 \r\nQ 42.328125 -1.421875 30.609375 -1.421875 \r\nQ 18.84375 -1.421875 12.171875 6.21875 \r\nQ 5.515625 13.875 5.515625 27.296875 \r\nQ 5.515625 40.765625 12.171875 48.375 \r\nQ 18.84375 56 30.609375 56 \r\nz\r\n\" id=\"DejaVuSans-111\"/>\r\n       <path d=\"M 48.78125 52.59375 \r\nL 48.78125 44.1875 \r\nQ 44.96875 46.296875 41.140625 47.34375 \r\nQ 37.3125 48.390625 33.40625 48.390625 \r\nQ 24.65625 48.390625 19.8125 42.84375 \r\nQ 14.984375 37.3125 14.984375 27.296875 \r\nQ 14.984375 17.28125 19.8125 11.734375 \r\nQ 24.65625 6.203125 33.40625 6.203125 \r\nQ 37.3125 6.203125 41.140625 7.25 \r\nQ 44.96875 8.296875 48.78125 10.40625 \r\nL 48.78125 2.09375 \r\nQ 45.015625 0.34375 40.984375 -0.53125 \r\nQ 36.96875 -1.421875 32.421875 -1.421875 \r\nQ 20.0625 -1.421875 12.78125 6.34375 \r\nQ 5.515625 14.109375 5.515625 27.296875 \r\nQ 5.515625 40.671875 12.859375 48.328125 \r\nQ 20.21875 56 33.015625 56 \r\nQ 37.15625 56 41.109375 55.140625 \r\nQ 45.0625 54.296875 48.78125 52.59375 \r\nz\r\n\" id=\"DejaVuSans-99\"/>\r\n       <path d=\"M 9.078125 75.984375 \r\nL 18.109375 75.984375 \r\nL 18.109375 31.109375 \r\nL 44.921875 54.6875 \r\nL 56.390625 54.6875 \r\nL 27.390625 29.109375 \r\nL 57.625 0 \r\nL 45.90625 0 \r\nL 18.109375 26.703125 \r\nL 18.109375 0 \r\nL 9.078125 0 \r\nz\r\n\" id=\"DejaVuSans-107\"/>\r\n       <path d=\"M 19.671875 64.796875 \r\nL 19.671875 37.40625 \r\nL 32.078125 37.40625 \r\nQ 38.96875 37.40625 42.71875 40.96875 \r\nQ 46.484375 44.53125 46.484375 51.125 \r\nQ 46.484375 57.671875 42.71875 61.234375 \r\nQ 38.96875 64.796875 32.078125 64.796875 \r\nz\r\nM 9.8125 72.90625 \r\nL 32.078125 72.90625 \r\nQ 44.34375 72.90625 50.609375 67.359375 \r\nQ 56.890625 61.8125 56.890625 51.125 \r\nQ 56.890625 40.328125 50.609375 34.8125 \r\nQ 44.34375 29.296875 32.078125 29.296875 \r\nL 19.671875 29.296875 \r\nL 19.671875 0 \r\nL 9.8125 0 \r\nz\r\n\" id=\"DejaVuSans-80\"/>\r\n       <path d=\"M 41.109375 46.296875 \r\nQ 39.59375 47.171875 37.8125 47.578125 \r\nQ 36.03125 48 33.890625 48 \r\nQ 26.265625 48 22.1875 43.046875 \r\nQ 18.109375 38.09375 18.109375 28.8125 \r\nL 18.109375 0 \r\nL 9.078125 0 \r\nL 9.078125 54.6875 \r\nL 18.109375 54.6875 \r\nL 18.109375 46.1875 \r\nQ 20.953125 51.171875 25.484375 53.578125 \r\nQ 30.03125 56 36.53125 56 \r\nQ 37.453125 56 38.578125 55.875 \r\nQ 39.703125 55.765625 41.0625 55.515625 \r\nz\r\n\" id=\"DejaVuSans-114\"/>\r\n      </defs>\r\n      <use xlink:href=\"#DejaVuSans-65\"/>\r\n      <use x=\"68.408203\" xlink:href=\"#DejaVuSans-68\"/>\r\n      <use x=\"145.410156\" xlink:href=\"#DejaVuSans-66\"/>\r\n      <use x=\"214.013672\" xlink:href=\"#DejaVuSans-76\"/>\r\n      <use x=\"269.726562\" xlink:href=\"#DejaVuSans-32\"/>\r\n      <use x=\"301.513672\" xlink:href=\"#DejaVuSans-115\"/>\r\n      <use x=\"353.613281\" xlink:href=\"#DejaVuSans-116\"/>\r\n      <use x=\"392.822266\" xlink:href=\"#DejaVuSans-111\"/>\r\n      <use x=\"454.003906\" xlink:href=\"#DejaVuSans-99\"/>\r\n      <use x=\"508.984375\" xlink:href=\"#DejaVuSans-107\"/>\r\n      <use x=\"566.894531\" xlink:href=\"#DejaVuSans-32\"/>\r\n      <use x=\"598.681641\" xlink:href=\"#DejaVuSans-80\"/>\r\n      <use x=\"657.234375\" xlink:href=\"#DejaVuSans-114\"/>\r\n      <use x=\"698.347656\" xlink:href=\"#DejaVuSans-105\"/>\r\n      <use x=\"726.130859\" xlink:href=\"#DejaVuSans-99\"/>\r\n      <use x=\"781.111328\" xlink:href=\"#DejaVuSans-101\"/>\r\n     </g>\r\n    </g>\r\n   </g>\r\n   <g id=\"line2d_12\">\r\n    <path clip-path=\"url(#p61dec8c887)\" d=\"M 62.183807 194.414114 \r\nL 62.86777 194.414114 \r\nL 63.551733 195.16859 \r\nL 64.235697 194.414114 \r\nL 64.91966 195.16859 \r\nL 65.603623 197.432018 \r\nL 66.287586 198.186494 \r\nL 66.971549 199.695446 \r\nL 68.339476 199.695446 \r\nL 69.023439 201.958874 \r\nL 69.707402 201.204398 \r\nL 70.391366 201.204398 \r\nL 71.075329 201.958874 \r\nL 71.759292 198.94097 \r\nL 72.443255 201.958874 \r\nL 73.127218 198.94097 \r\nL 73.811182 201.204398 \r\nL 75.863071 198.94097 \r\nL 76.547035 228.365537 \r\nL 77.230998 229.874489 \r\nL 77.914961 229.874489 \r\nL 78.598924 228.365537 \r\nL 79.282888 228.365537 \r\nL 79.966851 225.347632 \r\nL 80.650814 220.0663 \r\nL 81.334777 221.575252 \r\nL 82.01874 222.329728 \r\nL 82.702704 222.329728 \r\nL 83.386667 223.084204 \r\nL 84.07063 225.347632 \r\nL 84.754593 226.856584 \r\nL 85.438557 229.120013 \r\nL 86.12252 228.365537 \r\nL 88.174409 228.365537 \r\nL 88.858373 227.61106 \r\nL 89.542336 226.102108 \r\nL 90.226299 222.329728 \r\nL 90.910262 220.0663 \r\nL 91.594226 220.820776 \r\nL 92.278189 217.048396 \r\nL 92.962152 211.767063 \r\nL 93.646115 215.539444 \r\nL 94.330079 214.784967 \r\nL 95.698005 210.258111 \r\nL 96.381968 204.222303 \r\nL 97.749895 186.114877 \r\nL 98.433858 187.623829 \r\nL 99.117821 192.150686 \r\nL 99.801784 189.132781 \r\nL 100.485748 183.096973 \r\nL 101.169711 157.444787 \r\nL 101.853674 152.163455 \r\nL 102.537637 156.690311 \r\nL 103.2216 155.935835 \r\nL 103.905564 159.708215 \r\nL 104.589527 164.235072 \r\nL 105.27349 157.444787 \r\nL 105.957453 156.690311 \r\nL 106.641417 157.444787 \r\nL 107.32538 157.444787 \r\nL 108.009343 155.935835 \r\nL 108.693306 158.953739 \r\nL 109.37727 136.319457 \r\nL 110.061233 119.720984 \r\nL 110.745196 132.547077 \r\nL 111.429159 131.792601 \r\nL 112.113122 134.810505 \r\nL 112.797086 134.810505 \r\nL 113.481049 130.283649 \r\nL 114.165012 125.002317 \r\nL 114.848975 129.529173 \r\nL 115.532939 131.792601 \r\nL 116.216902 132.547077 \r\nL 116.900865 130.283649 \r\nL 117.584828 127.265745 \r\nL 118.268791 131.792601 \r\nL 118.952755 137.82841 \r\nL 119.636718 136.319457 \r\nL 120.320681 138.582886 \r\nL 121.004644 139.337362 \r\nL 121.688608 136.319457 \r\nL 122.372571 137.073933 \r\nL 123.056534 140.091838 \r\nL 123.740497 145.37317 \r\nL 125.108424 146.882122 \r\nL 126.47635 143.864218 \r\nL 127.844277 136.319457 \r\nL 128.52824 138.582886 \r\nL 129.212203 138.582886 \r\nL 129.896166 143.109742 \r\nL 130.58013 144.618694 \r\nL 131.264093 140.846314 \r\nL 131.948056 137.82841 \r\nL 133.315983 142.355266 \r\nL 133.999946 143.864218 \r\nL 134.683909 144.618694 \r\nL 135.367872 143.109742 \r\nL 136.051835 144.618694 \r\nL 136.735799 143.864218 \r\nL 137.419762 143.864218 \r\nL 138.103725 141.60079 \r\nL 138.787688 135.564981 \r\nL 139.471652 134.810505 \r\nL 140.155615 137.82841 \r\nL 140.839578 136.319457 \r\nL 141.523541 121.984412 \r\nL 142.207504 123.493364 \r\nL 142.891468 125.756793 \r\nL 143.575431 129.529173 \r\nL 145.627321 125.002317 \r\nL 146.311284 125.756793 \r\nL 146.995247 120.47546 \r\nL 147.67921 123.493364 \r\nL 148.363174 124.24784 \r\nL 149.047137 121.984412 \r\nL 149.7311 125.002317 \r\nL 150.415063 125.756793 \r\nL 151.099026 125.002317 \r\nL 151.78299 127.265745 \r\nL 152.466953 125.756793 \r\nL 153.150916 125.756793 \r\nL 153.834879 125.002317 \r\nL 154.518843 128.020221 \r\nL 155.202806 126.511269 \r\nL 156.570732 128.020221 \r\nL 157.254695 129.529173 \r\nL 157.938659 128.774697 \r\nL 158.622622 129.529173 \r\nL 159.306585 128.774697 \r\nL 159.990548 132.547077 \r\nL 160.674512 135.564981 \r\nL 161.358475 130.283649 \r\nL 162.042438 128.774697 \r\nL 162.726401 129.529173 \r\nL 163.410365 131.792601 \r\nL 164.094328 134.810505 \r\nL 165.462254 134.810505 \r\nL 166.146217 136.319457 \r\nL 166.830181 138.582886 \r\nL 167.514144 142.355266 \r\nL 168.198107 134.810505 \r\nL 168.88207 131.038125 \r\nL 169.566034 134.056029 \r\nL 170.249997 137.82841 \r\nL 170.93396 137.82841 \r\nL 171.617923 139.337362 \r\nL 172.301886 139.337362 \r\nL 172.98585 140.846314 \r\nL 173.669813 134.810505 \r\nL 174.353776 137.073933 \r\nL 175.037739 135.564981 \r\nL 175.721703 140.091838 \r\nL 176.405666 136.319457 \r\nL 177.089629 137.073933 \r\nL 177.773592 140.846314 \r\nL 178.457556 138.582886 \r\nL 179.141519 138.582886 \r\nL 180.509445 140.091838 \r\nL 181.193408 138.582886 \r\nL 181.877372 137.82841 \r\nL 183.245298 139.337362 \r\nL 183.929261 138.582886 \r\nL 184.613225 136.319457 \r\nL 185.297188 137.073933 \r\nL 185.981151 137.073933 \r\nL 186.665114 134.056029 \r\nL 187.349078 132.547077 \r\nL 188.033041 135.564981 \r\nL 188.717004 136.319457 \r\nL 189.400967 135.564981 \r\nL 190.08493 137.073933 \r\nL 190.768894 134.810505 \r\nL 191.452857 136.319457 \r\nL 192.13682 136.319457 \r\nL 192.820783 139.337362 \r\nL 193.504747 145.37317 \r\nL 194.18871 141.60079 \r\nL 194.872673 144.618694 \r\nL 195.556636 141.60079 \r\nL 196.240599 145.37317 \r\nL 196.924563 145.37317 \r\nL 197.608526 146.127646 \r\nL 198.292489 147.636598 \r\nL 198.976452 144.618694 \r\nL 199.660416 144.618694 \r\nL 200.344379 141.60079 \r\nL 201.028342 140.091838 \r\nL 201.712305 137.073933 \r\nL 202.396269 137.82841 \r\nL 203.764195 140.846314 \r\nL 204.448158 143.864218 \r\nL 205.132121 143.109742 \r\nL 205.816085 143.864218 \r\nL 206.500048 145.37317 \r\nL 207.184011 139.337362 \r\nL 207.867974 139.337362 \r\nL 209.235901 137.82841 \r\nL 209.919864 135.564981 \r\nL 210.603827 171.025356 \r\nL 211.28779 174.797736 \r\nL 212.655717 173.288784 \r\nL 213.33968 179.324593 \r\nL 214.023643 176.306688 \r\nL 214.707607 170.27088 \r\nL 215.39157 168.761928 \r\nL 216.759496 174.797736 \r\nL 217.44346 169.516404 \r\nL 218.127423 166.4985 \r\nL 218.811386 164.989548 \r\nL 219.495349 158.953739 \r\nL 220.863276 151.408979 \r\nL 221.547239 156.690311 \r\nL 222.231202 156.690311 \r\nL 222.915165 158.953739 \r\nL 223.599129 161.971643 \r\nL 224.283092 169.516404 \r\nL 224.967055 158.199263 \r\nL 225.651018 158.953739 \r\nL 226.334981 160.462691 \r\nL 227.018945 160.462691 \r\nL 227.702908 155.935835 \r\nL 229.070834 158.953739 \r\nL 229.754798 159.708215 \r\nL 230.438761 159.708215 \r\nL 231.122724 162.726119 \r\nL 231.806687 163.480596 \r\nL 232.490651 159.708215 \r\nL 233.174614 157.444787 \r\nL 233.858577 160.462691 \r\nL 235.226503 151.408979 \r\nL 235.910467 149.900026 \r\nL 236.59443 150.654503 \r\nL 237.278393 149.900026 \r\nL 237.962356 125.002317 \r\nL 238.64632 124.24784 \r\nL 239.330283 121.984412 \r\nL 240.014246 108.403843 \r\nL 240.698209 97.841178 \r\nL 241.382172 109.158319 \r\nL 242.066136 133.301553 \r\nL 242.750099 129.529173 \r\nL 243.434062 136.319457 \r\nL 244.118025 144.618694 \r\nL 244.801989 163.480596 \r\nL 245.485952 143.864218 \r\nL 246.169915 150.654503 \r\nL 246.853878 161.971643 \r\nL 247.537842 161.971643 \r\nL 248.905768 168.007452 \r\nL 249.589731 166.4985 \r\nL 250.273694 172.534308 \r\nL 251.641621 188.378305 \r\nL 252.325584 201.958874 \r\nL 253.009547 186.114877 \r\nL 253.693511 163.480596 \r\nL 254.377474 189.887258 \r\nL 255.061437 181.588021 \r\nL 256.429364 168.007452 \r\nL 257.113327 172.534308 \r\nL 257.79729 172.534308 \r\nL 258.481253 167.252976 \r\nL 259.84918 167.252976 \r\nL 260.533143 159.708215 \r\nL 261.217106 148.391074 \r\nL 261.901069 124.24784 \r\nL 262.585033 116.70308 \r\nL 263.268996 125.002317 \r\nL 263.952959 128.774697 \r\nL 264.636922 127.265745 \r\nL 265.320885 122.738888 \r\nL 266.688812 124.24784 \r\nL 267.372775 131.792601 \r\nL 268.056738 128.020221 \r\nL 268.740702 143.864218 \r\nL 269.424665 140.091838 \r\nL 270.108628 145.37317 \r\nL 270.792591 143.864218 \r\nL 271.476555 139.337362 \r\nL 272.160518 129.529173 \r\nL 272.844481 134.056029 \r\nL 273.528444 134.056029 \r\nL 274.212407 137.073933 \r\nL 274.896371 140.846314 \r\nL 275.580334 137.073933 \r\nL 276.264297 135.564981 \r\nL 276.94826 141.60079 \r\nL 277.632224 139.337362 \r\nL 278.316187 137.82841 \r\nL 279.00015 133.301553 \r\nL 279.684113 132.547077 \r\nL 280.368076 128.774697 \r\nL 281.736003 130.283649 \r\nL 282.419966 126.511269 \r\nL 283.103929 121.229936 \r\nL 283.787893 124.24784 \r\nL 284.471856 126.511269 \r\nL 285.155819 130.283649 \r\nL 285.839782 131.792601 \r\nL 286.523746 131.038125 \r\nL 287.207709 129.529173 \r\nL 287.891672 126.511269 \r\nL 288.575635 121.984412 \r\nL 289.259598 123.493364 \r\nL 289.943562 125.756793 \r\nL 290.627525 120.47546 \r\nL 291.311488 118.212032 \r\nL 291.995451 121.229936 \r\nL 292.679415 122.738888 \r\nL 293.363378 121.229936 \r\nL 294.047341 121.984412 \r\nL 294.731304 118.212032 \r\nL 295.415267 117.457556 \r\nL 296.099231 119.720984 \r\nL 296.783194 121.229936 \r\nL 297.467157 118.966508 \r\nL 298.15112 118.212032 \r\nL 298.835084 118.966508 \r\nL 299.519047 110.667271 \r\nL 300.20301 112.176224 \r\nL 300.886973 115.948604 \r\nL 301.570937 118.966508 \r\nL 302.2549 118.212032 \r\nL 302.938863 118.966508 \r\nL 303.622826 118.966508 \r\nL 304.306789 116.70308 \r\nL 304.990753 118.966508 \r\nL 305.674716 118.212032 \r\nL 306.358679 116.70308 \r\nL 307.042642 110.667271 \r\nL 307.726606 107.649367 \r\nL 308.410569 93.314322 \r\nL 309.094532 94.068798 \r\nL 309.778495 90.296418 \r\nL 310.462459 96.332226 \r\nL 311.146422 97.841178 \r\nL 311.830385 100.104607 \r\nL 312.514348 95.57775 \r\nL 313.882275 94.068798 \r\nL 314.566238 95.57775 \r\nL 315.250201 88.787466 \r\nL 315.934164 85.015085 \r\nL 316.618128 82.751657 \r\nL 317.302091 79.733753 \r\nL 317.986054 69.171088 \r\nL 318.670017 63.889756 \r\nL 319.35398 63.889756 \r\nL 320.721907 54.081567 \r\nL 321.40587 32.201761 \r\nL 322.773797 50.309187 \r\nL 323.45776 46.536806 \r\nL 324.141723 48.800235 \r\nL 324.825686 60.117376 \r\nL 326.193613 37.483094 \r\nL 326.877576 45.78233 \r\nL 327.561539 46.536806 \r\nL 328.245502 33.710713 \r\nL 328.929466 46.536806 \r\nL 329.613429 51.818139 \r\nL 330.297392 52.572615 \r\nL 330.981355 59.362899 \r\nL 331.665319 78.979277 \r\nL 332.349282 84.260609 \r\nL 333.033245 70.68004 \r\nL 333.717208 72.943469 \r\nL 334.401171 78.224801 \r\nL 335.085135 78.224801 \r\nL 335.769098 78.979277 \r\nL 336.453061 81.997181 \r\nL 337.137024 131.792601 \r\nL 337.820988 129.529173 \r\nL 338.504951 118.212032 \r\nL 339.188914 118.966508 \r\nL 339.872877 121.984412 \r\nL 340.556841 119.720984 \r\nL 341.240804 119.720984 \r\nL 341.924767 110.667271 \r\nL 342.60873 109.912795 \r\nL 343.292693 107.649367 \r\nL 343.976657 110.667271 \r\nL 344.66062 108.403843 \r\nL 345.344583 112.176224 \r\nL 346.028546 111.421747 \r\nL 346.71251 115.194128 \r\nL 347.396473 115.194128 \r\nL 348.080436 113.685176 \r\nL 348.764399 103.122511 \r\nL 349.448362 85.015085 \r\nL 350.132326 95.57775 \r\nL 350.816289 103.876987 \r\nL 351.500252 114.439652 \r\nL 352.184215 113.685176 \r\nL 352.868179 110.667271 \r\nL 353.552142 109.912795 \r\nL 354.236105 109.912795 \r\nL 354.920068 110.667271 \r\nL 355.604032 101.613559 \r\nL 356.287995 108.403843 \r\nL 356.971958 105.385939 \r\nL 357.655921 109.912795 \r\nL 358.339884 112.176224 \r\nL 359.023848 106.140415 \r\nL 359.707811 101.613559 \r\nL 361.075737 94.068798 \r\nL 361.759701 93.314322 \r\nL 363.127627 106.894891 \r\nL 363.81159 103.876987 \r\nL 364.495553 106.894891 \r\nL 365.179517 117.457556 \r\nL 365.86348 114.439652 \r\nL 365.86348 114.439652 \r\n\" style=\"fill:none;stroke:#ff0000;stroke-linecap:square;stroke-width:1.5;\"/>\r\n   </g>\r\n   <g id=\"line2d_13\">\r\n    <path clip-path=\"url(#p61dec8c887)\" d=\"M 62.183807 195.88618 \r\nL 63.551733 196.762734 \r\nL 64.235697 197.316503 \r\nL 65.603623 197.793323 \r\nL 66.287586 198.457151 \r\nL 68.339476 201.439689 \r\nL 69.023439 201.973104 \r\nL 70.391366 203.254364 \r\nL 71.759292 203.836085 \r\nL 72.443255 203.434993 \r\nL 73.127218 203.389289 \r\nL 73.811182 203.047693 \r\nL 75.863071 202.999295 \r\nL 76.547035 202.616669 \r\nL 77.230998 208.436736 \r\nL 77.914961 216.708527 \r\nL 78.598924 223.43151 \r\nL 79.282888 227.061827 \r\nL 79.966851 228.305764 \r\nL 80.650814 227.814438 \r\nL 82.01874 223.888022 \r\nL 82.702704 223.052959 \r\nL 83.386667 223.032905 \r\nL 84.07063 223.479862 \r\nL 84.754593 224.415635 \r\nL 85.438557 225.6406 \r\nL 86.12252 227.099404 \r\nL 86.806483 228.154883 \r\nL 87.490446 228.662833 \r\nL 88.174409 228.794304 \r\nL 88.858373 228.767503 \r\nL 89.542336 228.57398 \r\nL 90.226299 228.055278 \r\nL 90.910262 226.733379 \r\nL 91.594226 224.814355 \r\nL 92.962152 221.669492 \r\nL 93.646115 219.191842 \r\nL 94.330079 217.549576 \r\nL 95.698005 216.11504 \r\nL 96.381968 214.949134 \r\nL 97.065931 212.468467 \r\nL 97.749895 207.867701 \r\nL 98.433858 201.272782 \r\nL 99.117821 195.849364 \r\nL 99.801784 193.898635 \r\nL 100.485748 193.494896 \r\nL 101.169711 192.064458 \r\nL 101.853674 184.026345 \r\nL 102.537637 172.883594 \r\nL 103.2216 165.431255 \r\nL 103.905564 162.407479 \r\nL 104.589527 162.91011 \r\nL 105.27349 165.558329 \r\nL 105.957453 166.355032 \r\nL 106.641417 165.319677 \r\nL 107.32538 163.995199 \r\nL 108.693306 162.380656 \r\nL 109.37727 162.617189 \r\nL 110.061233 157.548214 \r\nL 110.745196 146.204756 \r\nL 111.429159 139.324376 \r\nL 112.113122 137.74681 \r\nL 112.797086 139.460383 \r\nL 113.481049 141.579354 \r\nL 114.165012 141.546313 \r\nL 114.848975 138.812051 \r\nL 115.532939 136.97069 \r\nL 116.216902 137.114872 \r\nL 116.900865 138.263071 \r\nL 117.584828 138.683757 \r\nL 118.268791 137.642024 \r\nL 118.952755 137.506661 \r\nL 120.320681 141.943537 \r\nL 121.004644 143.775273 \r\nL 121.688608 145.085452 \r\nL 122.372571 144.997774 \r\nL 123.056534 144.483446 \r\nL 123.740497 144.9319 \r\nL 125.792387 151.86259 \r\nL 126.47635 152.526141 \r\nL 127.160313 151.990976 \r\nL 127.844277 150.188918 \r\nL 128.52824 147.419866 \r\nL 129.212203 145.771913 \r\nL 129.896166 145.371812 \r\nL 130.58013 146.775264 \r\nL 131.264093 148.910652 \r\nL 131.948056 149.537547 \r\nL 133.315983 147.129339 \r\nL 133.999946 147.29544 \r\nL 135.367872 149.783015 \r\nL 136.051835 150.304526 \r\nL 136.735799 150.609742 \r\nL 137.419762 150.642345 \r\nL 138.103725 150.551098 \r\nL 138.787688 149.879396 \r\nL 140.155615 144.852373 \r\nL 140.839578 143.901219 \r\nL 141.523541 143.772487 \r\nL 142.891468 135.592197 \r\nL 143.575431 133.506013 \r\nL 144.259394 134.309256 \r\nL 144.943357 135.557682 \r\nL 145.627321 135.80711 \r\nL 146.995247 134.107835 \r\nL 147.67921 132.176723 \r\nL 148.363174 131.11261 \r\nL 149.047137 131.201187 \r\nL 149.7311 131.093408 \r\nL 150.415063 131.607252 \r\nL 151.099026 132.521128 \r\nL 151.78299 133.0498 \r\nL 152.466953 133.782265 \r\nL 153.150916 134.032037 \r\nL 153.834879 133.923729 \r\nL 154.518843 133.533873 \r\nL 155.886769 134.42484 \r\nL 157.254695 135.200177 \r\nL 157.938659 135.971507 \r\nL 159.306585 136.818174 \r\nL 159.990548 136.833578 \r\nL 160.674512 137.716693 \r\nL 161.358475 139.644167 \r\nL 162.042438 139.985279 \r\nL 163.410365 137.710384 \r\nL 164.094328 137.777271 \r\nL 165.462254 140.847995 \r\nL 166.146217 141.82641 \r\nL 166.830181 142.580771 \r\nL 167.514144 143.678776 \r\nL 168.198107 145.65055 \r\nL 168.88207 145.461194 \r\nL 169.566034 143.037789 \r\nL 170.249997 141.32219 \r\nL 170.93396 141.861592 \r\nL 172.301886 144.864092 \r\nL 172.98585 145.908243 \r\nL 173.669813 146.740865 \r\nL 175.721703 143.619234 \r\nL 176.405666 144.280552 \r\nL 177.089629 144.560234 \r\nL 177.773592 144.524016 \r\nL 178.457556 145.404115 \r\nL 179.141519 145.94027 \r\nL 180.509445 146.020074 \r\nL 181.193408 146.303118 \r\nL 181.877372 146.236738 \r\nL 182.561335 145.771683 \r\nL 183.245298 145.496192 \r\nL 184.613225 145.793626 \r\nL 185.981151 144.598939 \r\nL 186.665114 144.292617 \r\nL 187.349078 143.411919 \r\nL 188.033041 142.037892 \r\nL 188.717004 141.721992 \r\nL 190.768894 143.438743 \r\nL 192.13682 143.179576 \r\nL 192.820783 143.226063 \r\nL 193.504747 144.13545 \r\nL 194.18871 146.791704 \r\nL 194.872673 148.468875 \r\nL 195.556636 149.673186 \r\nL 196.240599 149.656401 \r\nL 196.924563 150.048605 \r\nL 198.292489 151.549107 \r\nL 198.976452 152.542926 \r\nL 199.660416 152.575598 \r\nL 200.344379 152.063965 \r\nL 201.028342 150.781691 \r\nL 201.712305 149.145412 \r\nL 202.396269 147.123238 \r\nL 203.080232 145.750823 \r\nL 203.764195 145.591975 \r\nL 204.448158 146.404703 \r\nL 205.132121 148.080447 \r\nL 205.816085 149.354915 \r\nL 207.184011 150.760094 \r\nL 207.867974 149.694991 \r\nL 209.235901 146.582869 \r\nL 210.603827 144.546534 \r\nL 211.28779 152.866862 \r\nL 211.971754 164.272141 \r\nL 212.655717 172.679134 \r\nL 213.33968 176.663365 \r\nL 214.023643 179.00913 \r\nL 214.707607 179.871178 \r\nL 215.39157 178.546102 \r\nL 216.075533 176.284354 \r\nL 216.759496 175.293552 \r\nL 217.44346 176.223707 \r\nL 218.127423 176.538433 \r\nL 218.811386 175.397094 \r\nL 219.495349 173.4856 \r\nL 220.179312 170.387385 \r\nL 221.547239 162.708367 \r\nL 222.231202 161.277999 \r\nL 222.915165 161.570989 \r\nL 223.599129 162.838066 \r\nL 224.283092 164.724809 \r\nL 224.967055 168.06879 \r\nL 225.651018 168.414622 \r\nL 226.334981 166.911564 \r\nL 227.018945 165.684436 \r\nL 227.702908 165.246573 \r\nL 228.386871 164.203528 \r\nL 229.070834 163.40238 \r\nL 229.754798 163.47028 \r\nL 231.122724 164.826624 \r\nL 232.490651 167.229629 \r\nL 233.174614 167.194009 \r\nL 233.858577 165.867068 \r\nL 234.54254 165.163408 \r\nL 235.226503 164.079286 \r\nL 237.278393 157.667091 \r\nL 237.962356 156.873312 \r\nL 238.64632 150.009993 \r\nL 239.330283 141.371532 \r\nL 240.698209 127.638631 \r\nL 241.382172 118.937036 \r\nL 242.066136 115.83843 \r\nL 244.118025 138.560091 \r\nL 244.801989 144.162527 \r\nL 245.485952 152.545482 \r\nL 246.169915 155.233464 \r\nL 246.853878 155.383931 \r\nL 247.537842 157.975554 \r\nL 249.589731 168.596702 \r\nL 250.957658 172.874338 \r\nL 251.641621 176.889975 \r\nL 252.325584 182.497108 \r\nL 253.009547 190.263989 \r\nL 253.693511 193.636498 \r\nL 254.377474 188.033647 \r\nL 255.061437 185.503869 \r\nL 255.7454 185.161628 \r\nL 256.429364 183.934407 \r\nL 257.113327 180.587226 \r\nL 257.79729 178.190093 \r\nL 258.481253 177.328068 \r\nL 260.533143 173.505885 \r\nL 261.217106 171.009607 \r\nL 261.901069 165.454809 \r\nL 263.268996 139.617504 \r\nL 263.952959 132.598422 \r\nL 264.636922 132.633581 \r\nL 265.320885 134.699756 \r\nL 266.004849 134.884944 \r\nL 267.372775 132.91499 \r\nL 268.056738 134.406328 \r\nL 268.740702 135.575527 \r\nL 270.108628 144.052791 \r\nL 270.792591 147.436237 \r\nL 271.476555 149.292011 \r\nL 272.160518 148.737091 \r\nL 272.844481 144.708606 \r\nL 273.528444 141.658973 \r\nL 274.212407 140.660757 \r\nL 274.896371 141.731916 \r\nL 275.580334 144.293676 \r\nL 276.264297 145.579012 \r\nL 276.94826 145.174904 \r\nL 278.316187 146.318314 \r\nL 279.00015 146.106671 \r\nL 279.684113 144.353264 \r\nL 281.736003 138.069824 \r\nL 282.419966 137.625262 \r\nL 283.103929 136.776891 \r\nL 283.787893 134.32284 \r\nL 284.471856 132.679124 \r\nL 285.155819 132.802905 \r\nL 285.839782 134.668143 \r\nL 286.523746 136.980568 \r\nL 287.207709 138.351095 \r\nL 287.891672 138.329958 \r\nL 288.575635 136.886166 \r\nL 289.259598 134.080366 \r\nL 289.943562 132.073595 \r\nL 290.627525 131.963629 \r\nL 291.311488 131.284743 \r\nL 291.995451 129.633291 \r\nL 292.679415 128.948281 \r\nL 294.047341 129.948707 \r\nL 294.731304 130.200092 \r\nL 295.415267 129.224002 \r\nL 296.099231 127.711643 \r\nL 296.783194 127.210393 \r\nL 297.467157 127.872264 \r\nL 298.15112 128.134193 \r\nL 299.519047 127.411469 \r\nL 300.886973 122.560055 \r\nL 301.570937 122.409081 \r\nL 302.938863 125.975989 \r\nL 303.622826 127.039918 \r\nL 304.306789 127.43675 \r\nL 304.990753 126.79894 \r\nL 305.674716 126.556789 \r\nL 306.358679 126.528238 \r\nL 307.042642 126.142181 \r\nL 307.726606 123.958695 \r\nL 308.410569 120.733821 \r\nL 309.778495 108.061994 \r\nL 310.462459 103.892759 \r\nL 311.146422 103.775171 \r\nL 311.830385 105.845928 \r\nL 312.514348 108.376812 \r\nL 313.198311 108.582654 \r\nL 313.882275 107.200177 \r\nL 314.566238 105.498899 \r\nL 315.250201 104.835025 \r\nL 315.934164 102.851947 \r\nL 317.986054 93.455395 \r\nL 318.670017 88.34714 \r\nL 319.35398 82.203829 \r\nL 320.037944 78.123768 \r\nL 321.40587 71.351581 \r\nL 322.089833 61.181811 \r\nL 322.773797 55.422024 \r\nL 323.45776 57.684347 \r\nL 324.141723 60.58837 \r\nL 324.825686 62.56735 \r\nL 325.50965 67.078895 \r\nL 326.193613 67.083592 \r\nL 326.877576 60.666424 \r\nL 327.561539 57.186781 \r\nL 328.245502 57.404964 \r\nL 328.929466 54.319735 \r\nL 329.613429 55.317077 \r\nL 331.665319 68.488311 \r\nL 333.033245 87.044674 \r\nL 333.717208 88.527976 \r\nL 334.401171 86.369541 \r\nL 335.085135 85.939876 \r\nL 335.769098 86.981609 \r\nL 336.453061 88.49489 \r\nL 337.137024 90.609279 \r\nL 338.504951 123.493295 \r\nL 339.188914 130.295714 \r\nL 339.872877 130.340037 \r\nL 341.240804 127.716294 \r\nL 341.924767 127.158726 \r\nL 343.976657 119.405245 \r\nL 344.66062 118.936138 \r\nL 345.344583 118.875422 \r\nL 346.71251 120.6516 \r\nL 348.080436 123.159989 \r\nL 348.764399 123.274468 \r\nL 349.448362 119.770096 \r\nL 350.132326 110.152069 \r\nL 350.816289 104.422605 \r\nL 351.500252 106.034524 \r\nL 352.868179 119.350861 \r\nL 353.552142 121.611848 \r\nL 354.236105 120.996281 \r\nL 354.920068 119.588453 \r\nL 355.604032 118.818413 \r\nL 356.287995 116.094236 \r\nL 356.971958 115.250861 \r\nL 357.655921 115.067146 \r\nL 358.339884 116.373872 \r\nL 359.023848 118.584573 \r\nL 359.707811 118.580382 \r\nL 360.391774 115.994676 \r\nL 361.759701 108.037496 \r\nL 362.443664 105.202385 \r\nL 363.127627 106.052576 \r\nL 363.81159 110.23429 \r\nL 364.495553 113.236215 \r\nL 365.179517 115.107854 \r\nL 365.86348 118.959555 \r\nL 366.547443 121.770765 \r\nL 366.547443 121.770765 \r\n\" style=\"fill:none;stroke:#0000ff;stroke-linecap:square;stroke-width:1.5;\"/>\r\n   </g>\r\n   <g id=\"patch_3\">\r\n    <path d=\"M 46.965625 239.758125 \r\nL 46.965625 22.318125 \r\n\" style=\"fill:none;stroke:#000000;stroke-linecap:square;stroke-linejoin:miter;stroke-width:0.8;\"/>\r\n   </g>\r\n   <g id=\"patch_4\">\r\n    <path d=\"M 381.765625 239.758125 \r\nL 381.765625 22.318125 \r\n\" style=\"fill:none;stroke:#000000;stroke-linecap:square;stroke-linejoin:miter;stroke-width:0.8;\"/>\r\n   </g>\r\n   <g id=\"patch_5\">\r\n    <path d=\"M 46.965625 239.758125 \r\nL 381.765625 239.758125 \r\n\" style=\"fill:none;stroke:#000000;stroke-linecap:square;stroke-linejoin:miter;stroke-width:0.8;\"/>\r\n   </g>\r\n   <g id=\"patch_6\">\r\n    <path d=\"M 46.965625 22.318125 \r\nL 381.765625 22.318125 \r\n\" style=\"fill:none;stroke:#000000;stroke-linecap:square;stroke-linejoin:miter;stroke-width:0.8;\"/>\r\n   </g>\r\n   <g id=\"text_14\">\r\n    <!-- ADBL Stock Price Prediction -->\r\n    <g transform=\"translate(131.41375 16.318125)scale(0.12 -0.12)\">\r\n     <defs>\r\n      <path d=\"M 53.515625 70.515625 \r\nL 53.515625 60.890625 \r\nQ 47.90625 63.578125 42.921875 64.890625 \r\nQ 37.9375 66.21875 33.296875 66.21875 \r\nQ 25.25 66.21875 20.875 63.09375 \r\nQ 16.5 59.96875 16.5 54.203125 \r\nQ 16.5 49.359375 19.40625 46.890625 \r\nQ 22.3125 44.4375 30.421875 42.921875 \r\nL 36.375 41.703125 \r\nQ 47.40625 39.59375 52.65625 34.296875 \r\nQ 57.90625 29 57.90625 20.125 \r\nQ 57.90625 9.515625 50.796875 4.046875 \r\nQ 43.703125 -1.421875 29.984375 -1.421875 \r\nQ 24.8125 -1.421875 18.96875 -0.25 \r\nQ 13.140625 0.921875 6.890625 3.21875 \r\nL 6.890625 13.375 \r\nQ 12.890625 10.015625 18.65625 8.296875 \r\nQ 24.421875 6.59375 29.984375 6.59375 \r\nQ 38.421875 6.59375 43.015625 9.90625 \r\nQ 47.609375 13.234375 47.609375 19.390625 \r\nQ 47.609375 24.75 44.3125 27.78125 \r\nQ 41.015625 30.8125 33.5 32.328125 \r\nL 27.484375 33.5 \r\nQ 16.453125 35.6875 11.515625 40.375 \r\nQ 6.59375 45.0625 6.59375 53.421875 \r\nQ 6.59375 63.09375 13.40625 68.65625 \r\nQ 20.21875 74.21875 32.171875 74.21875 \r\nQ 37.3125 74.21875 42.625 73.28125 \r\nQ 47.953125 72.359375 53.515625 70.515625 \r\nz\r\n\" id=\"DejaVuSans-83\"/>\r\n      <path d=\"M 45.40625 46.390625 \r\nL 45.40625 75.984375 \r\nL 54.390625 75.984375 \r\nL 54.390625 0 \r\nL 45.40625 0 \r\nL 45.40625 8.203125 \r\nQ 42.578125 3.328125 38.25 0.953125 \r\nQ 33.9375 -1.421875 27.875 -1.421875 \r\nQ 17.96875 -1.421875 11.734375 6.484375 \r\nQ 5.515625 14.40625 5.515625 27.296875 \r\nQ 5.515625 40.1875 11.734375 48.09375 \r\nQ 17.96875 56 27.875 56 \r\nQ 33.9375 56 38.25 53.625 \r\nQ 42.578125 51.265625 45.40625 46.390625 \r\nz\r\nM 14.796875 27.296875 \r\nQ 14.796875 17.390625 18.875 11.75 \r\nQ 22.953125 6.109375 30.078125 6.109375 \r\nQ 37.203125 6.109375 41.296875 11.75 \r\nQ 45.40625 17.390625 45.40625 27.296875 \r\nQ 45.40625 37.203125 41.296875 42.84375 \r\nQ 37.203125 48.484375 30.078125 48.484375 \r\nQ 22.953125 48.484375 18.875 42.84375 \r\nQ 14.796875 37.203125 14.796875 27.296875 \r\nz\r\n\" id=\"DejaVuSans-100\"/>\r\n      <path d=\"M 54.890625 33.015625 \r\nL 54.890625 0 \r\nL 45.90625 0 \r\nL 45.90625 32.71875 \r\nQ 45.90625 40.484375 42.875 44.328125 \r\nQ 39.84375 48.1875 33.796875 48.1875 \r\nQ 26.515625 48.1875 22.3125 43.546875 \r\nQ 18.109375 38.921875 18.109375 30.90625 \r\nL 18.109375 0 \r\nL 9.078125 0 \r\nL 9.078125 54.6875 \r\nL 18.109375 54.6875 \r\nL 18.109375 46.1875 \r\nQ 21.34375 51.125 25.703125 53.5625 \r\nQ 30.078125 56 35.796875 56 \r\nQ 45.21875 56 50.046875 50.171875 \r\nQ 54.890625 44.34375 54.890625 33.015625 \r\nz\r\n\" id=\"DejaVuSans-110\"/>\r\n     </defs>\r\n     <use xlink:href=\"#DejaVuSans-65\"/>\r\n     <use x=\"68.408203\" xlink:href=\"#DejaVuSans-68\"/>\r\n     <use x=\"145.410156\" xlink:href=\"#DejaVuSans-66\"/>\r\n     <use x=\"214.013672\" xlink:href=\"#DejaVuSans-76\"/>\r\n     <use x=\"269.726562\" xlink:href=\"#DejaVuSans-32\"/>\r\n     <use x=\"301.513672\" xlink:href=\"#DejaVuSans-83\"/>\r\n     <use x=\"364.990234\" xlink:href=\"#DejaVuSans-116\"/>\r\n     <use x=\"404.199219\" xlink:href=\"#DejaVuSans-111\"/>\r\n     <use x=\"465.380859\" xlink:href=\"#DejaVuSans-99\"/>\r\n     <use x=\"520.361328\" xlink:href=\"#DejaVuSans-107\"/>\r\n     <use x=\"578.271484\" xlink:href=\"#DejaVuSans-32\"/>\r\n     <use x=\"610.058594\" xlink:href=\"#DejaVuSans-80\"/>\r\n     <use x=\"668.611328\" xlink:href=\"#DejaVuSans-114\"/>\r\n     <use x=\"709.724609\" xlink:href=\"#DejaVuSans-105\"/>\r\n     <use x=\"737.507812\" xlink:href=\"#DejaVuSans-99\"/>\r\n     <use x=\"792.488281\" xlink:href=\"#DejaVuSans-101\"/>\r\n     <use x=\"854.011719\" xlink:href=\"#DejaVuSans-32\"/>\r\n     <use x=\"885.798828\" xlink:href=\"#DejaVuSans-80\"/>\r\n     <use x=\"944.351562\" xlink:href=\"#DejaVuSans-114\"/>\r\n     <use x=\"983.214844\" xlink:href=\"#DejaVuSans-101\"/>\r\n     <use x=\"1044.738281\" xlink:href=\"#DejaVuSans-100\"/>\r\n     <use x=\"1108.214844\" xlink:href=\"#DejaVuSans-105\"/>\r\n     <use x=\"1135.998047\" xlink:href=\"#DejaVuSans-99\"/>\r\n     <use x=\"1190.978516\" xlink:href=\"#DejaVuSans-116\"/>\r\n     <use x=\"1230.1875\" xlink:href=\"#DejaVuSans-105\"/>\r\n     <use x=\"1257.970703\" xlink:href=\"#DejaVuSans-111\"/>\r\n     <use x=\"1319.152344\" xlink:href=\"#DejaVuSans-110\"/>\r\n    </g>\r\n   </g>\r\n   <g id=\"legend_1\">\r\n    <g id=\"patch_7\">\r\n     <path d=\"M 53.965625 59.674375 \r\nL 221.485938 59.674375 \r\nQ 223.485938 59.674375 223.485938 57.674375 \r\nL 223.485938 29.318125 \r\nQ 223.485938 27.318125 221.485938 27.318125 \r\nL 53.965625 27.318125 \r\nQ 51.965625 27.318125 51.965625 29.318125 \r\nL 51.965625 57.674375 \r\nQ 51.965625 59.674375 53.965625 59.674375 \r\nz\r\n\" style=\"fill:#ffffff;opacity:0.8;stroke:#cccccc;stroke-linejoin:miter;\"/>\r\n    </g>\r\n    <g id=\"line2d_14\">\r\n     <path d=\"M 55.965625 35.416562 \r\nL 75.965625 35.416562 \r\n\" style=\"fill:none;stroke:#ff0000;stroke-linecap:square;stroke-width:1.5;\"/>\r\n    </g>\r\n    <g id=\"line2d_15\"/>\r\n    <g id=\"text_15\">\r\n     <!-- Real ADBL Stock Price -->\r\n     <g transform=\"translate(83.965625 38.916562)scale(0.1 -0.1)\">\r\n      <defs>\r\n       <path d=\"M 44.390625 34.1875 \r\nQ 47.5625 33.109375 50.5625 29.59375 \r\nQ 53.5625 26.078125 56.59375 19.921875 \r\nL 66.609375 0 \r\nL 56 0 \r\nL 46.6875 18.703125 \r\nQ 43.0625 26.03125 39.671875 28.421875 \r\nQ 36.28125 30.8125 30.421875 30.8125 \r\nL 19.671875 30.8125 \r\nL 19.671875 0 \r\nL 9.8125 0 \r\nL 9.8125 72.90625 \r\nL 32.078125 72.90625 \r\nQ 44.578125 72.90625 50.734375 67.671875 \r\nQ 56.890625 62.453125 56.890625 51.90625 \r\nQ 56.890625 45.015625 53.6875 40.46875 \r\nQ 50.484375 35.9375 44.390625 34.1875 \r\nz\r\nM 19.671875 64.796875 \r\nL 19.671875 38.921875 \r\nL 32.078125 38.921875 \r\nQ 39.203125 38.921875 42.84375 42.21875 \r\nQ 46.484375 45.515625 46.484375 51.90625 \r\nQ 46.484375 58.296875 42.84375 61.546875 \r\nQ 39.203125 64.796875 32.078125 64.796875 \r\nz\r\n\" id=\"DejaVuSans-82\"/>\r\n       <path d=\"M 34.28125 27.484375 \r\nQ 23.390625 27.484375 19.1875 25 \r\nQ 14.984375 22.515625 14.984375 16.5 \r\nQ 14.984375 11.71875 18.140625 8.90625 \r\nQ 21.296875 6.109375 26.703125 6.109375 \r\nQ 34.1875 6.109375 38.703125 11.40625 \r\nQ 43.21875 16.703125 43.21875 25.484375 \r\nL 43.21875 27.484375 \r\nz\r\nM 52.203125 31.203125 \r\nL 52.203125 0 \r\nL 43.21875 0 \r\nL 43.21875 8.296875 \r\nQ 40.140625 3.328125 35.546875 0.953125 \r\nQ 30.953125 -1.421875 24.3125 -1.421875 \r\nQ 15.921875 -1.421875 10.953125 3.296875 \r\nQ 6 8.015625 6 15.921875 \r\nQ 6 25.140625 12.171875 29.828125 \r\nQ 18.359375 34.515625 30.609375 34.515625 \r\nL 43.21875 34.515625 \r\nL 43.21875 35.40625 \r\nQ 43.21875 41.609375 39.140625 45 \r\nQ 35.0625 48.390625 27.6875 48.390625 \r\nQ 23 48.390625 18.546875 47.265625 \r\nQ 14.109375 46.140625 10.015625 43.890625 \r\nL 10.015625 52.203125 \r\nQ 14.9375 54.109375 19.578125 55.046875 \r\nQ 24.21875 56 28.609375 56 \r\nQ 40.484375 56 46.34375 49.84375 \r\nQ 52.203125 43.703125 52.203125 31.203125 \r\nz\r\n\" id=\"DejaVuSans-97\"/>\r\n       <path d=\"M 9.421875 75.984375 \r\nL 18.40625 75.984375 \r\nL 18.40625 0 \r\nL 9.421875 0 \r\nz\r\n\" id=\"DejaVuSans-108\"/>\r\n      </defs>\r\n      <use xlink:href=\"#DejaVuSans-82\"/>\r\n      <use x=\"64.982422\" xlink:href=\"#DejaVuSans-101\"/>\r\n      <use x=\"126.505859\" xlink:href=\"#DejaVuSans-97\"/>\r\n      <use x=\"187.785156\" xlink:href=\"#DejaVuSans-108\"/>\r\n      <use x=\"215.568359\" xlink:href=\"#DejaVuSans-32\"/>\r\n      <use x=\"247.355469\" xlink:href=\"#DejaVuSans-65\"/>\r\n      <use x=\"315.763672\" xlink:href=\"#DejaVuSans-68\"/>\r\n      <use x=\"392.765625\" xlink:href=\"#DejaVuSans-66\"/>\r\n      <use x=\"461.369141\" xlink:href=\"#DejaVuSans-76\"/>\r\n      <use x=\"517.082031\" xlink:href=\"#DejaVuSans-32\"/>\r\n      <use x=\"548.869141\" xlink:href=\"#DejaVuSans-83\"/>\r\n      <use x=\"612.345703\" xlink:href=\"#DejaVuSans-116\"/>\r\n      <use x=\"651.554688\" xlink:href=\"#DejaVuSans-111\"/>\r\n      <use x=\"712.736328\" xlink:href=\"#DejaVuSans-99\"/>\r\n      <use x=\"767.716797\" xlink:href=\"#DejaVuSans-107\"/>\r\n      <use x=\"825.626953\" xlink:href=\"#DejaVuSans-32\"/>\r\n      <use x=\"857.414062\" xlink:href=\"#DejaVuSans-80\"/>\r\n      <use x=\"915.966797\" xlink:href=\"#DejaVuSans-114\"/>\r\n      <use x=\"957.080078\" xlink:href=\"#DejaVuSans-105\"/>\r\n      <use x=\"984.863281\" xlink:href=\"#DejaVuSans-99\"/>\r\n      <use x=\"1039.84375\" xlink:href=\"#DejaVuSans-101\"/>\r\n     </g>\r\n    </g>\r\n    <g id=\"line2d_16\">\r\n     <path d=\"M 55.965625 50.094687 \r\nL 75.965625 50.094687 \r\n\" style=\"fill:none;stroke:#0000ff;stroke-linecap:square;stroke-width:1.5;\"/>\r\n    </g>\r\n    <g id=\"line2d_17\"/>\r\n    <g id=\"text_16\">\r\n     <!-- Predicted ADBL Stock Price -->\r\n     <g transform=\"translate(83.965625 53.594687)scale(0.1 -0.1)\">\r\n      <use xlink:href=\"#DejaVuSans-80\"/>\r\n      <use x=\"58.552734\" xlink:href=\"#DejaVuSans-114\"/>\r\n      <use x=\"97.416016\" xlink:href=\"#DejaVuSans-101\"/>\r\n      <use x=\"158.939453\" xlink:href=\"#DejaVuSans-100\"/>\r\n      <use x=\"222.416016\" xlink:href=\"#DejaVuSans-105\"/>\r\n      <use x=\"250.199219\" xlink:href=\"#DejaVuSans-99\"/>\r\n      <use x=\"305.179688\" xlink:href=\"#DejaVuSans-116\"/>\r\n      <use x=\"344.388672\" xlink:href=\"#DejaVuSans-101\"/>\r\n      <use x=\"405.912109\" xlink:href=\"#DejaVuSans-100\"/>\r\n      <use x=\"469.388672\" xlink:href=\"#DejaVuSans-32\"/>\r\n      <use x=\"501.175781\" xlink:href=\"#DejaVuSans-65\"/>\r\n      <use x=\"569.583984\" xlink:href=\"#DejaVuSans-68\"/>\r\n      <use x=\"646.585938\" xlink:href=\"#DejaVuSans-66\"/>\r\n      <use x=\"715.189453\" xlink:href=\"#DejaVuSans-76\"/>\r\n      <use x=\"770.902344\" xlink:href=\"#DejaVuSans-32\"/>\r\n      <use x=\"802.689453\" xlink:href=\"#DejaVuSans-83\"/>\r\n      <use x=\"866.166016\" xlink:href=\"#DejaVuSans-116\"/>\r\n      <use x=\"905.375\" xlink:href=\"#DejaVuSans-111\"/>\r\n      <use x=\"966.556641\" xlink:href=\"#DejaVuSans-99\"/>\r\n      <use x=\"1021.537109\" xlink:href=\"#DejaVuSans-107\"/>\r\n      <use x=\"1079.447266\" xlink:href=\"#DejaVuSans-32\"/>\r\n      <use x=\"1111.234375\" xlink:href=\"#DejaVuSans-80\"/>\r\n      <use x=\"1169.787109\" xlink:href=\"#DejaVuSans-114\"/>\r\n      <use x=\"1210.900391\" xlink:href=\"#DejaVuSans-105\"/>\r\n      <use x=\"1238.683594\" xlink:href=\"#DejaVuSans-99\"/>\r\n      <use x=\"1293.664062\" xlink:href=\"#DejaVuSans-101\"/>\r\n     </g>\r\n    </g>\r\n   </g>\r\n  </g>\r\n </g>\r\n <defs>\r\n  <clipPath id=\"p61dec8c887\">\r\n   <rect height=\"217.44\" width=\"334.8\" x=\"46.965625\" y=\"22.318125\"/>\r\n  </clipPath>\r\n </defs>\r\n</svg>\r\n",
      "image/png": "[encoded data removed]"
     },
     "metadata": {
      "needs_background": "light"
     }
    }
   ],
   "source": [
    "plt.plot(real_stock_price, color = 'red', label = 'Real ADBL Stock Price')\n",
    "plt.plot(predicted_stock_price, color = 'blue', label = 'Predicted ADBL Stock Price')\n",
    "plt.title('ADBL Stock Price Prediction')\n",
    "plt.xlabel('Time')\n",
    "plt.ylabel('ADBL stock Price')\n",
    "plt.legend()\n",
    "plt.show()\n"
   ]
  },
  {
   "cell_type": "code",
   "execution_count": null,
   "metadata": {},
   "outputs": [],
   "source": []
  }
 ]
}